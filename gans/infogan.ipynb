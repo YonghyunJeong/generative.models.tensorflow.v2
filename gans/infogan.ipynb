{
 "cells": [
  {
   "cell_type": "markdown",
   "metadata": {},
   "source": [
    "# InfoGAN with MNIST\n",
    "\n",
    "* `InfoGAN: Interpretable Representation Learning by Information Maximizing Generative Adversarial Nets` [arXiv:1606.03657](https://arxiv.org/abs/1606.03657)\n",
    "  * Xi Chen, Yan Duan, Rein Houthooft, John Schulman, Ilya Sutskever, Pieter Abbeel\n",
    "* Implemented by [`tf.keras.layers`](https://www.tensorflow.org/api_docs/python/tf/keras/layers) and [`eager execution`](https://www.tensorflow.org/guide/eager)."
   ]
  },
  {
   "cell_type": "markdown",
   "metadata": {},
   "source": [
    "## Import modules"
   ]
  },
  {
   "cell_type": "code",
   "execution_count": null,
   "metadata": {},
   "outputs": [],
   "source": [
    "from __future__ import absolute_import\n",
    "from __future__ import division\n",
    "from __future__ import print_function\n",
    "\n",
    "import os\n",
    "import sys\n",
    "import time\n",
    "import glob\n",
    "\n",
    "import numpy as np\n",
    "import matplotlib.pyplot as plt\n",
    "%matplotlib inline\n",
    "\n",
    "import PIL\n",
    "import imageio\n",
    "from IPython import display\n",
    "\n",
    "import tensorflow as tf\n",
    "from tensorflow.keras import layers\n",
    "tf.enable_eager_execution()\n",
    "\n",
    "import image_utils as utils\n",
    "\n",
    "tf.logging.set_verbosity(tf.logging.INFO)\n",
    "\n",
    "os.environ[\"CUDA_VISIBLE_DEVICES\"]=\"0\""
   ]
  },
  {
   "cell_type": "markdown",
   "metadata": {},
   "source": [
    "## Setting hyperparameters"
   ]
  },
  {
   "cell_type": "code",
   "execution_count": null,
   "metadata": {},
   "outputs": [],
   "source": [
    "# Training Flags (hyperparameter configuration)\n",
    "model_name = 'infogan'\n",
    "train_dir = 'train/' + model_name + '/exp1/'\n",
    "max_epochs = 30\n",
    "save_model_epochs = 10\n",
    "print_steps = 100\n",
    "save_images_epochs = 1\n",
    "batch_size = 256\n",
    "learning_rate_D = 1e-4\n",
    "learning_rate_G = 1e-4\n",
    "k = 1 # the number of step of learning D before learning G\n",
    "num_classes = 10 # number of classes for MNIST\n",
    "num_examples_to_generate = num_classes\n",
    "noise_dim = 62\n",
    "categorical_code_dim = num_classes # for MNIST\n",
    "continuous_code_dim = 2\n",
    "MNIST_SIZE = utils.MNIST_SIZE"
   ]
  },
  {
   "cell_type": "markdown",
   "metadata": {},
   "source": [
    "## Load the MNIST dataset"
   ]
  },
  {
   "cell_type": "code",
   "execution_count": null,
   "metadata": {},
   "outputs": [],
   "source": [
    "# Load training and eval data from tf.keras\n",
    "(train_data, train_labels), _ = \\\n",
    "    tf.keras.datasets.mnist.load_data()\n",
    "\n",
    "train_data = train_data.reshape(-1, 28, 28, 1).astype('float32')\n",
    "train_data = train_data / 255.\n",
    "train_labels = train_labels.astype(np.int32)"
   ]
  },
  {
   "cell_type": "markdown",
   "metadata": {},
   "source": [
    "## Set up dataset with `tf.data`\n",
    "\n",
    "### create input pipeline with `tf.data.Dataset`"
   ]
  },
  {
   "cell_type": "code",
   "execution_count": null,
   "metadata": {},
   "outputs": [],
   "source": [
    "tf.set_random_seed(219)\n",
    "\n",
    "# for train\n",
    "N = len(train_data)\n",
    "N = 320\n",
    "train_dataset = tf.data.Dataset.from_tensor_slices((train_data[:N]))\n",
    "train_dataset = train_dataset.shuffle(buffer_size = N)\n",
    "train_dataset = train_dataset.batch(batch_size = batch_size, drop_remainder=True)\n",
    "print(train_dataset)"
   ]
  },
  {
   "cell_type": "markdown",
   "metadata": {},
   "source": [
    "## Create the generator and discriminator models"
   ]
  },
  {
   "cell_type": "code",
   "execution_count": null,
   "metadata": {},
   "outputs": [],
   "source": [
    "class Generator(tf.keras.Model):\n",
    "  def __init__(self):\n",
    "    super(Generator, self).__init__()\n",
    "    self.fc1 = layers.Dense(units=1024, use_bias=False)\n",
    "    self.fc1_bn = layers.BatchNormalization()\n",
    "    self.fc2 = layers.Dense(units=7 * 7 * 128, use_bias=False)\n",
    "    self.fc2_bn = layers.BatchNormalization()\n",
    "    self.conv1 = layers.Conv2DTranspose(filters=64, kernel_size=(4, 4), strides=(2, 2), padding='same', use_bias=False)\n",
    "    self.conv1_bn = layers.BatchNormalization()\n",
    "    self.conv2 = layers.Conv2DTranspose(filters=1, kernel_size=(4, 4), strides=(2, 2), padding='same')\n",
    "\n",
    "  def call(self, noise_inputs, categorical_code, continuous_code, training=True):\n",
    "    \"\"\"Run the model.\"\"\"\n",
    "    # random z vector (noise dim): 62 dim\n",
    "    # categorical code (for MNIST): 10 dim\n",
    "    # continuous code: 2 dim\n",
    "    # inputs: 62 + 10 + 2 = 74 dim\n",
    "    inputs = tf.concat([noise_inputs, categorical_code, continuous_code], axis=1)\n",
    "    \n",
    "    # fc1: (1024,) shape\n",
    "    fc1 = self.fc1(inputs)\n",
    "    fc1 = self.fc1_bn(fc1, training=training)\n",
    "    fc1 = tf.nn.relu(fc1)\n",
    "    \n",
    "    # fc2: (7, 7, 128) shape\n",
    "    fc2 = self.fc2(fc1)\n",
    "    fc2 = self.fc2_bn(fc2, training=training)\n",
    "    fc2 = tf.nn.relu(fc2)\n",
    "    fc2 = tf.reshape(fc2, [-1, 7, 7, 128])\n",
    "    \n",
    "    # conv1: (14, 14, 64) shape\n",
    "    conv1 = self.conv1(fc2)\n",
    "    conv1 = self.conv1_bn(conv1, training=training)\n",
    "    conv1 = tf.nn.relu(conv1)\n",
    "    \n",
    "    # generated_images = conv2: (28, 28, 1) shape\n",
    "    conv2 = self.conv2(conv1)\n",
    "    generated_images = tf.nn.sigmoid(conv2)\n",
    "    \n",
    "    return generated_images"
   ]
  },
  {
   "cell_type": "code",
   "execution_count": null,
   "metadata": {},
   "outputs": [],
   "source": [
    "class Discriminator(tf.keras.Model):\n",
    "  def __init__(self):\n",
    "    super(Discriminator, self).__init__()\n",
    "    self.conv1 = layers.Conv2D(filters=64, kernel_size=(4, 4), strides=(2, 2), padding='same')\n",
    "    self.conv2 = layers.Conv2D(filters=128, kernel_size=(4, 4), strides=(2, 2), padding='same', use_bias=False)\n",
    "    self.conv2_bn = layers.BatchNormalization()\n",
    "    self.flatten = layers.Flatten()\n",
    "    self.fc1 = layers.Dense(units=1024, use_bias=False)\n",
    "    self.fc1_bn = layers.BatchNormalization()\n",
    "    self.fc2 = layers.Dense(units=1)\n",
    "\n",
    "  def call(self, image_inputs, training=True):\n",
    "    # image_inputs: (28, 28, 1) shape\n",
    "    # conv1: (14, 14, 64) shape\n",
    "    conv1 = self.conv1(image_inputs)\n",
    "    conv1 = tf.nn.leaky_relu(conv1)\n",
    "    \n",
    "    # conv2: (7, 7, 128) shape\n",
    "    conv2 = self.conv2(conv1)\n",
    "    conv2 = self.conv2_bn(conv2, training=training)\n",
    "    conv2 = tf.nn.leaky_relu(conv2)\n",
    "    \n",
    "    # flatten: (7 x 7 x 128,) shape\n",
    "    flatten = self.flatten(conv2)\n",
    "    \n",
    "    # fc1: (1024,) shape\n",
    "    fc1 = self.fc1(flatten)\n",
    "    fc1 = self.fc1_bn(fc1, training=training)\n",
    "    fc1 = tf.nn.leaky_relu(fc1)\n",
    "    \n",
    "    # discriminator_logits: (1,) shape\n",
    "    discriminator_logits = self.fc2(fc1)\n",
    "    \n",
    "    return discriminator_logits, fc1"
   ]
  },
  {
   "cell_type": "code",
   "execution_count": null,
   "metadata": {},
   "outputs": [],
   "source": [
    "class RecognitionNetwork(tf.keras.Model):\n",
    "  def __init__(self):\n",
    "    super(RecognitionNetwork, self).__init__()\n",
    "    self.fc1 = layers.Dense(units=128, use_bias=False)\n",
    "    self.fc1_bn = layers.BatchNormalization()\n",
    "    self.fc2 = layers.Dense(units=categorical_code_dim + continuous_code_dim)\n",
    "    \n",
    "  def call(self, inputs, training=True):\n",
    "    # inputs: (1024,) shape\n",
    "    # fc1: (128,) shape\n",
    "    fc1 = self.fc1(inputs)\n",
    "    fc1 = self.fc1_bn(fc1, training=training)\n",
    "    fc1 = tf.nn.leaky_relu(fc1)\n",
    "    \n",
    "    # q_logits: (10 + 2,) shape\n",
    "    q_logits = self.fc2(fc1)\n",
    "    \n",
    "    # q_softmax: (10 + 2,) shape\n",
    "    q_softmax = tf.nn.softmax(q_logits)\n",
    "    \n",
    "    return q_logits, q_softmax"
   ]
  },
  {
   "cell_type": "code",
   "execution_count": null,
   "metadata": {},
   "outputs": [],
   "source": [
    "generator = Generator()\n",
    "discriminator = Discriminator()\n",
    "q_network = RecognitionNetwork()"
   ]
  },
  {
   "cell_type": "code",
   "execution_count": null,
   "metadata": {},
   "outputs": [],
   "source": [
    "# Defun for performance boost\n",
    "generator.call = tf.contrib.eager.defun(generator.call)\n",
    "discriminator.call = tf.contrib.eager.defun(discriminator.call)\n",
    "q_network.call = tf.contrib.eager.defun(q_network.call)"
   ]
  },
  {
   "cell_type": "markdown",
   "metadata": {},
   "source": [
    "## Define the loss functions and the optimizer"
   ]
  },
  {
   "cell_type": "code",
   "execution_count": null,
   "metadata": {},
   "outputs": [],
   "source": [
    "def GANLoss(logits, is_real=True):\n",
    "  \"\"\"Computes standard GAN loss between `logits` and `labels`.\n",
    "\n",
    "  Args:\n",
    "    logits (`1-rank Tensor`): logits.\n",
    "    is_real (`bool`): True means `1` labeling, False means `0` labeling.\n",
    "\n",
    "  Returns:\n",
    "    loss (`0-randk Tensor): the standard GAN loss value. (binary_cross_entropy)\n",
    "  \"\"\"\n",
    "  if is_real:\n",
    "    labels = tf.ones_like(logits)\n",
    "  else:\n",
    "    labels = tf.zeros_like(logits)\n",
    "\n",
    "  return tf.losses.sigmoid_cross_entropy(multi_class_labels=labels,\n",
    "                                         logits=logits)"
   ]
  },
  {
   "cell_type": "code",
   "execution_count": null,
   "metadata": {},
   "outputs": [],
   "source": [
    "def discriminator_loss(real_logits, fake_logits):\n",
    "  # losses of real with label \"1\"\n",
    "  real_loss = GANLoss(logits=real_logits, is_real=True)\n",
    "  # losses of fake with label \"0\"\n",
    "  fake_loss = GANLoss(logits=fake_logits, is_real=False)\n",
    "  \n",
    "  return real_loss + fake_loss"
   ]
  },
  {
   "cell_type": "code",
   "execution_count": null,
   "metadata": {},
   "outputs": [],
   "source": [
    "def generator_loss(fake_logits):\n",
    "  # losses of Generator with label \"1\" that used to fool the Discriminator\n",
    "  return GANLoss(logits=fake_logits, is_real=True)"
   ]
  },
  {
   "cell_type": "code",
   "execution_count": null,
   "metadata": {},
   "outputs": [],
   "source": [
    "def mutual_information_loss(q_logits, q_softmax, categorical_code, continuous_code):\n",
    "  # Categorical code\n",
    "  loss_Q_cate = tf.losses.softmax_cross_entropy(onehot_labels=categorical_code,\n",
    "                                                logits=q_logits[:, :categorical_code_dim])\n",
    "  # Continuous code\n",
    "  loss_Q_cont = tf.losses.mean_squared_error(labels=continuous_code,\n",
    "                                             predictions=q_softmax[:, categorical_code_dim:])\n",
    "#   loss_Q_cont = tf.reduce_mean(\n",
    "#                   tf.reduce_sum(\n",
    "#                     tf.square(continuous_code - q_softmax[:, categorical_code_dim:]), axis=1))\n",
    "\n",
    "  # losses of Recognition network\n",
    "  return loss_Q_cate + loss_Q_cont    "
   ]
  },
  {
   "cell_type": "code",
   "execution_count": null,
   "metadata": {},
   "outputs": [],
   "source": [
    "discriminator_optimizer = tf.train.AdamOptimizer(learning_rate_D, beta1=0.5)\n",
    "generator_optimizer = tf.train.AdamOptimizer(learning_rate_G, beta1=0.5)\n",
    "q_network_optimizer = tf.train.AdamOptimizer(learning_rate_G, beta1=0.5)"
   ]
  },
  {
   "cell_type": "markdown",
   "metadata": {},
   "source": [
    "## Checkpoints (Object-based saving)"
   ]
  },
  {
   "cell_type": "code",
   "execution_count": null,
   "metadata": {},
   "outputs": [],
   "source": [
    "checkpoint_dir = train_dir\n",
    "if not tf.gfile.Exists(checkpoint_dir):\n",
    "  tf.gfile.MakeDirs(checkpoint_dir)\n",
    "checkpoint_prefix = os.path.join(checkpoint_dir, \"ckpt\")\n",
    "checkpoint = tf.train.Checkpoint(generator_optimizer=generator_optimizer,\n",
    "                                 discriminator_optimizer=discriminator_optimizer,\n",
    "                                 q_network_optimizer=q_network_optimizer,\n",
    "                                 generator=generator,\n",
    "                                 discriminator=discriminator,\n",
    "                                 q_network=q_network)                                "
   ]
  },
  {
   "cell_type": "markdown",
   "metadata": {},
   "source": [
    "## Training"
   ]
  },
  {
   "cell_type": "code",
   "execution_count": null,
   "metadata": {},
   "outputs": [],
   "source": [
    "def print_or_save_sample_data(sample_images1, sample_images2, max_print_size=num_examples_to_generate,\n",
    "                              is_save=False, epoch=None, checkpoint_dir=checkpoint_dir):\n",
    "\n",
    "  images1 = sample_images1[:max_print_size,:]\n",
    "  images1 = images1.reshape([max_print_size, 28, 28])\n",
    "  images1 = images1.swapaxes(0, 1)\n",
    "  images1 = images1.reshape([28, max_print_size * 28])\n",
    "  \n",
    "  images2 = sample_images2[:max_print_size,:]\n",
    "  images2 = images2.reshape([max_print_size, 28, 28])\n",
    "  images2 = images2.swapaxes(0, 1)\n",
    "  images2 = images2.reshape([28, max_print_size * 28])\n",
    "  \n",
    "  print_images = np.concatenate((images1, images2), axis=0)  \n",
    "   \n",
    "  plt.figure(figsize=(max_print_size, 2))\n",
    "  plt.axis('off')\n",
    "  plt.imshow(print_images, cmap='gray')\n",
    "  \n",
    "  if is_save and epoch is not None:\n",
    "    filepath = os.path.join(checkpoint_dir, 'image_at_epoch_{:04d}.png'.format(epoch))\n",
    "    plt.savefig(filepath)\n",
    "  \n",
    "  plt.show()"
   ]
  },
  {
   "cell_type": "code",
   "execution_count": null,
   "metadata": {},
   "outputs": [],
   "source": [
    "def sampling_images(random_vector_for_generation):\n",
    "  sample_noise = tf.stack(random_vector_for_generation * num_examples_to_generate)\n",
    "\n",
    "  sample_number = 3 # 0 ~ 9, actually arbitrary number\n",
    "  sample_categorical_code = tf.stack([tf.one_hot(sample_number, depth=num_classes)] * num_examples_to_generate)\n",
    "\n",
    "  c1 = tf.reshape(tf.linspace(-2.0, 2.0, num=num_examples_to_generate), [num_examples_to_generate, 1])\n",
    "  c2 = tf.zeros([num_examples_to_generate, 1])\n",
    "  sample_continuous_code = tf.concat((c1, c2), axis=1)\n",
    "\n",
    "  sample_images1 = generator(sample_noise, sample_categorical_code, sample_continuous_code, training=False)\n",
    "\n",
    "  sample_number = 7 # 0 ~ 9, actually arbitrary number\n",
    "  sample_categorical_code = tf.stack([tf.one_hot(sample_number, depth=num_classes)] * num_examples_to_generate)\n",
    "\n",
    "  sample_continuous_code = np.concatenate((c2, c1), axis=1)\n",
    "\n",
    "  sample_images2 = generator(sample_noise, sample_categorical_code, sample_continuous_code, training=False)\n",
    "\n",
    "  return sample_images1.numpy(), sample_images2.numpy()"
   ]
  },
  {
   "cell_type": "code",
   "execution_count": null,
   "metadata": {},
   "outputs": [],
   "source": [
    "# keeping the random vector constant for generation (prediction) so\n",
    "# it will be easier to see the improvement of the gan.\n",
    "random_vector_for_generation = tf.random_normal([num_examples_to_generate, noise_dim])"
   ]
  },
  {
   "cell_type": "code",
   "execution_count": null,
   "metadata": {},
   "outputs": [],
   "source": [
    "tf.logging.info('Start Training.')\n",
    "global_step = tf.train.get_or_create_global_step()\n",
    "\n",
    "sample_condition = tf.eye(num_classes)\n",
    "sample_condition = tf.reshape(sample_condition, [-1, num_classes])\n",
    "  \n",
    "for epoch in range(max_epochs):\n",
    "  \n",
    "  for images in train_dataset:\n",
    "    start_time = time.time()\n",
    "    \n",
    "    # generating noise from a uniform distribution\n",
    "    noise = tf.random_normal([batch_size, noise_dim])\n",
    "    #categorical_code = np.random.multinomial(1, categorical_code_dim * [1. / categorical_code_dim],\n",
    "    #                                         size=[batch_size])\n",
    "    categorical_code = tf.one_hot(\n",
    "                          tf.multinomial([categorical_code_dim * [1. / categorical_code_dim]], batch_size)[0],\n",
    "                                          depth=categorical_code_dim)\n",
    "    continuous_code = tf.random_uniform(shape=[batch_size, continuous_code_dim], minval=-1.0, maxval=1.0)\n",
    "\n",
    "    with tf.GradientTape() as gen_tape, tf.GradientTape() as disc_tape, tf.GradientTape() as q_net_tape:\n",
    "      generated_images = generator(noise, categorical_code, continuous_code, training=True)\n",
    "\n",
    "      real_logits, _ = discriminator(images, training=True)\n",
    "      fake_logits, recog_inputs = discriminator(generated_images, training=True)\n",
    "      q_logits, q_softmax = q_network(recog_inputs, training=True)\n",
    "      \n",
    "      gen_loss = generator_loss(fake_logits)\n",
    "      disc_loss = discriminator_loss(real_logits, fake_logits)\n",
    "      mi_loss = mutual_information_loss(q_logits, q_softmax, categorical_code, continuous_code)\n",
    "      \n",
    "    gradients_of_generator = gen_tape.gradient(gen_loss, generator.variables)\n",
    "    gradients_of_discriminator = disc_tape.gradient(disc_loss, discriminator.variables)\n",
    "    gradients_of_q_network = q_net_tape.gradient(mi_loss, q_network.variables)\n",
    "    \n",
    "\n",
    "    generator_optimizer.apply_gradients(zip(gradients_of_generator, generator.variables),\n",
    "                                        global_step=global_step)\n",
    "    discriminator_optimizer.apply_gradients(zip(gradients_of_discriminator, discriminator.variables))\n",
    "    q_network_optimizer.apply_gradients(zip(gradients_of_q_network, q_network.variables))\n",
    "    \n",
    "    epochs = global_step.numpy() * batch_size / float(N)\n",
    "    duration = time.time() - start_time\n",
    "\n",
    "    if global_step.numpy() % print_steps == 0:\n",
    "      display.clear_output(wait=True)\n",
    "      examples_per_sec = batch_size / float(duration)\n",
    "      print(\"Epochs: {:.2f} global_step: {} loss_D: {:.3f} loss_G: {:.3f} ({:.2f} examples/sec; {:.3f} sec/batch)\".format(\n",
    "                epochs, global_step.numpy(), disc_loss, gen_loss, examples_per_sec, duration))\n",
    "      \n",
    "      sample_images1, sample_images2 = sampling_images(random_vector_for_generation)\n",
    "      print_or_save_sample_data(sample_images1, sample_images2)\n",
    "\n",
    "  if epoch % save_images_epochs == 0:\n",
    "    display.clear_output(wait=True)\n",
    "    print(\"This images are saved at {} epoch\".format(epoch+1))\n",
    "    sample_images1, sample_images2 = sampling_images(random_vector_for_generation)\n",
    "    print_or_save_sample_data(sample_images1, sample_images2, num_examples_to_generate,\n",
    "                              is_save=True, epoch=epoch+1, checkpoint_dir=checkpoint_dir)\n",
    "\n",
    "  # saving (checkpoint) the model every save_epochs\n",
    "  if (epoch + 1) % save_model_epochs == 0:\n",
    "    checkpoint.save(file_prefix = checkpoint_prefix)"
   ]
  },
  {
   "cell_type": "code",
   "execution_count": null,
   "metadata": {},
   "outputs": [],
   "source": [
    "# generating after the final epoch\n",
    "display.clear_output(wait=True)\n",
    "sample_images1, sample_images2 = sampling_images(random_vector_for_generation)\n",
    "print_or_save_sample_data(sample_images1, sample_images2, num_examples_to_generate,\n",
    "                          is_save=True, epoch=epoch+1, checkpoint_dir=checkpoint_dir)"
   ]
  },
  {
   "cell_type": "markdown",
   "metadata": {},
   "source": [
    "## Restore the latest checkpoint"
   ]
  },
  {
   "cell_type": "code",
   "execution_count": null,
   "metadata": {},
   "outputs": [],
   "source": [
    "# restoring the latest checkpoint in checkpoint_dir\n",
    "checkpoint.restore(tf.train.latest_checkpoint(checkpoint_dir))"
   ]
  },
  {
   "cell_type": "markdown",
   "metadata": {},
   "source": [
    "## Display an image using the epoch number"
   ]
  },
  {
   "cell_type": "code",
   "execution_count": null,
   "metadata": {},
   "outputs": [],
   "source": [
    "def display_image(epoch_no, checkpoint_dir=checkpoint_dir):\n",
    "  filepath = os.path.join(checkpoint_dir, 'image_at_epoch_{:04d}.png'.format(epoch_no))\n",
    "  return PIL.Image.open(filepath)"
   ]
  },
  {
   "cell_type": "code",
   "execution_count": null,
   "metadata": {},
   "outputs": [],
   "source": [
    "display_image(max_epochs, checkpoint_dir)"
   ]
  },
  {
   "cell_type": "markdown",
   "metadata": {},
   "source": [
    "## Generate a GIF of all the saved images."
   ]
  },
  {
   "cell_type": "code",
   "execution_count": null,
   "metadata": {},
   "outputs": [],
   "source": [
    "filename = model_name + '.gif'\n",
    "utils.generate_gif(filename, checkpoint_dir)"
   ]
  },
  {
   "cell_type": "code",
   "execution_count": null,
   "metadata": {
    "scrolled": true
   },
   "outputs": [],
   "source": [
    "display.Image(filename=filename + '.png')"
   ]
  }
 ],
 "metadata": {
  "kernelspec": {
   "display_name": "Python 3",
   "language": "python",
   "name": "python3"
  },
  "language_info": {
   "codemirror_mode": {
    "name": "ipython",
    "version": 3
   },
   "file_extension": ".py",
   "mimetype": "text/x-python",
   "name": "python",
   "nbconvert_exporter": "python",
   "pygments_lexer": "ipython3",
   "version": "3.6.5"
  }
 },
 "nbformat": 4,
 "nbformat_minor": 2
}
