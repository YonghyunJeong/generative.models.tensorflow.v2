{
 "cells": [
  {
   "cell_type": "markdown",
   "metadata": {},
   "source": [
    "# Conditional GAN with MNIST\n",
    "\n",
    "* `Conditional Generative Adversarial Nets`[arXiv:1411.1784](https://arxiv.org/abs/1411.1784)\n",
    "  * Mehdi Mirza, Simon Osindero\n",
    "  \n",
    "* Implemented by [`tf.keras.layers`](https://www.tensorflow.org/api_docs/python/tf/keras/layers) and [`eager execution`](https://www.tensorflow.org/guide/eager).\n",
    "* Use `transposed_conv2d` and `conv2d` for Generator and Discriminator, respectively.\n",
    "  * I do not use `dense` layer for model architecture consistency. (So my architecture is different from original dcgan structure)\n",
    "* based on DCGAN model"
   ]
  },
  {
   "cell_type": "markdown",
   "metadata": {},
   "source": [
    "## Import modules"
   ]
  },
  {
   "cell_type": "code",
   "execution_count": null,
   "metadata": {},
   "outputs": [],
   "source": [
    "from __future__ import absolute_import\n",
    "from __future__ import division\n",
    "from __future__ import print_function\n",
    "\n",
    "import os\n",
    "import sys\n",
    "import time\n",
    "import glob\n",
    "\n",
    "import numpy as np\n",
    "import matplotlib.pyplot as plt\n",
    "%matplotlib inline\n",
    "\n",
    "import PIL\n",
    "import imageio\n",
    "from IPython import display\n",
    "\n",
    "import tensorflow as tf\n",
    "from tensorflow.keras import layers\n",
    "tf.enable_eager_execution()\n",
    "\n",
    "import image_utils as utils\n",
    "\n",
    "tf.logging.set_verbosity(tf.logging.INFO)\n",
    "\n",
    "os.environ[\"CUDA_VISIBLE_DEVICES\"]=\"0\""
   ]
  },
  {
   "cell_type": "markdown",
   "metadata": {},
   "source": [
    "## Setting hyperparameters"
   ]
  },
  {
   "cell_type": "code",
   "execution_count": null,
   "metadata": {},
   "outputs": [],
   "source": [
    "# Training Flags (hyperparameter configuration)\n",
    "model_name = 'cgan'\n",
    "train_dir = 'train/' + model_name + '/exp1/'\n",
    "max_epochs = 30\n",
    "save_model_epochs = 10\n",
    "print_steps = 100\n",
    "save_images_epochs = 1\n",
    "batch_size = 256\n",
    "learning_rate_D = 1e-4\n",
    "learning_rate_G = 5e-4\n",
    "k = 1 # the number of step of learning D before learning G\n",
    "num_classes = 10 # number of classes for MNIST\n",
    "num_examples_to_generate = num_classes\n",
    "noise_dim = 100\n",
    "MNIST_SIZE = utils.MNIST_SIZE"
   ]
  },
  {
   "cell_type": "markdown",
   "metadata": {},
   "source": [
    "## Load the MNIST dataset"
   ]
  },
  {
   "cell_type": "code",
   "execution_count": null,
   "metadata": {},
   "outputs": [],
   "source": [
    "# Load training and eval data from tf.keras\n",
    "(train_data, train_labels), _ = \\\n",
    "    tf.keras.datasets.mnist.load_data()\n",
    "\n",
    "train_data = train_data.reshape(-1, 28, 28, 1).astype('float32')\n",
    "train_data = train_data / 255.\n",
    "train_labels = train_labels.astype(np.int32)"
   ]
  },
  {
   "cell_type": "markdown",
   "metadata": {},
   "source": [
    "## Set up dataset with `tf.data`\n",
    "\n",
    "### create input pipeline with `tf.data.Dataset`"
   ]
  },
  {
   "cell_type": "code",
   "execution_count": null,
   "metadata": {},
   "outputs": [],
   "source": [
    "def convert_shape_and_type_for_labels(x, y):\n",
    "  y = tf.one_hot(y, depth=num_classes)\n",
    "  y = tf.reshape(y, shape=[1, 1, num_classes])\n",
    "  y = tf.cast(y, dtype = tf.float32)\n",
    "  return x, y"
   ]
  },
  {
   "cell_type": "code",
   "execution_count": null,
   "metadata": {},
   "outputs": [],
   "source": [
    "tf.set_random_seed(219)\n",
    "\n",
    "# for train\n",
    "N = len(train_data)\n",
    "N = 640\n",
    "train_dataset = tf.data.Dataset.from_tensor_slices((train_data[:N], train_labels[:N]))\n",
    "train_dataset = train_dataset.shuffle(buffer_size = N)\n",
    "train_dataset = train_dataset.map(convert_shape_and_type_for_labels)\n",
    "train_dataset = train_dataset.batch(batch_size = batch_size)\n",
    "print(train_dataset)"
   ]
  },
  {
   "cell_type": "markdown",
   "metadata": {},
   "source": [
    "## Create the generator and discriminator models"
   ]
  },
  {
   "cell_type": "code",
   "execution_count": null,
   "metadata": {},
   "outputs": [],
   "source": [
    "class Generator(tf.keras.Model):\n",
    "  def __init__(self):\n",
    "    super(Generator, self).__init__()\n",
    "    self.conv1 = layers.Conv2DTranspose(filters=256, kernel_size=(3, 3), strides=(2, 2), use_bias=False)\n",
    "    self.conv1_bn = layers.BatchNormalization()\n",
    "    self.conv2 = layers.Conv2DTranspose(filters=128, kernel_size=(3, 3), strides=(2, 2), use_bias=False)\n",
    "    self.conv2_bn = layers.BatchNormalization()\n",
    "    self.conv3 = layers.Conv2DTranspose(filters=64, kernel_size=(4, 4), strides=(2, 2), padding='same', use_bias=False)\n",
    "    self.conv3_bn = layers.BatchNormalization()\n",
    "    self.conv4 = layers.Conv2DTranspose(filters=1, kernel_size=(4, 4), strides=(2, 2), padding='same')\n",
    "\n",
    "  def call(self, noise_inputs, conditions, training=True):\n",
    "    \"\"\"Run the model.\"\"\"\n",
    "    # inputs = 1 x 1 x (100 + 10) dim\n",
    "    inputs = tf.concat([noise_inputs, conditions], axis=3)\n",
    "    \n",
    "    # conv1: 3 x 3 x 256 dim\n",
    "    conv1 = self.conv1(inputs)\n",
    "    conv1_bn = self.conv1_bn(conv1, training=training)\n",
    "    conv1 = tf.nn.relu(conv1_bn)\n",
    "    \n",
    "    # conv2: 7 x 7 x 128 dim\n",
    "    conv2 = self.conv2(conv1)\n",
    "    conv2_bn = self.conv2_bn(conv2, training=training)\n",
    "    conv2 = tf.nn.relu(conv2_bn)\n",
    "    \n",
    "    # conv3: 14 x 14 x 64 dim\n",
    "    conv3 = self.conv3(conv2)\n",
    "    conv3_bn = self.conv3_bn(conv3, training=training)\n",
    "    conv3 = tf.nn.relu(conv3_bn)\n",
    "    \n",
    "    # generated_images = conv4: 28 x 28 x 1 dim\n",
    "    conv4 = self.conv4(conv3)\n",
    "    generated_images = tf.nn.sigmoid(conv4)\n",
    "    \n",
    "    return generated_images"
   ]
  },
  {
   "cell_type": "code",
   "execution_count": null,
   "metadata": {},
   "outputs": [],
   "source": [
    "class Discriminator(tf.keras.Model):\n",
    "  def __init__(self):\n",
    "    super(Discriminator, self).__init__()\n",
    "    self.conv1 = layers.Conv2D(64, (4, 4), strides=(2, 2), padding='same')\n",
    "    self.conv2 = layers.Conv2D(128, (4, 4), strides=(2, 2), padding='same', use_bias=False)\n",
    "    self.conv2_bn = layers.BatchNormalization()\n",
    "    self.conv3 = layers.Conv2D(256, (3, 3), strides=(2, 2), use_bias=False)\n",
    "    self.conv3_bn = layers.BatchNormalization()\n",
    "    self.conv4 = layers.Conv2D(1, (3, 3))\n",
    "\n",
    "  def call(self, image_inputs, conditions, training=True):\n",
    "    # image_inputs: 28 x 28 x 1 dim\n",
    "    # conditions: 10 dim (for MNIST)\n",
    "    # inputs: 28 x 28 x (1 + 10) dim\n",
    "    inputs = tf.concat([image_inputs,\n",
    "                        conditions * tf.ones([batch_size,\n",
    "                                              MNIST_SIZE, MNIST_SIZE,\n",
    "                                              num_classes])], axis=3)\n",
    "    # conv1: 14 x 14 x 64 dim\n",
    "    conv1 = tf.nn.leaky_relu(self.conv1(inputs))\n",
    "    \n",
    "    # conv2: 7 x 7 x 128 dim\n",
    "    conv2 = self.conv2(conv1)\n",
    "    conv2_bn = self.conv2_bn(conv2, training=training)\n",
    "    conv2 = tf.nn.leaky_relu(conv2_bn)\n",
    "    \n",
    "    # conv3: 3 x 3 x 256 dim\n",
    "    conv3 = self.conv3(conv2)\n",
    "    conv3_bn = self.conv3_bn(conv3, training=training)\n",
    "    conv3 = tf.nn.leaky_relu(conv3_bn)\n",
    "    \n",
    "    # conv4: 1 x 1 x 1 dim\n",
    "    conv4 = self.conv4(conv3)\n",
    "    # discriminator_logits: 1 dim\n",
    "    discriminator_logits = tf.squeeze(conv4, axis=[1, 2])\n",
    "    \n",
    "    return discriminator_logits"
   ]
  },
  {
   "cell_type": "code",
   "execution_count": null,
   "metadata": {},
   "outputs": [],
   "source": [
    "generator = Generator()\n",
    "discriminator = Discriminator()"
   ]
  },
  {
   "cell_type": "code",
   "execution_count": null,
   "metadata": {},
   "outputs": [],
   "source": [
    "# Defun for performance boost\n",
    "generator.call = tf.contrib.eager.defun(generator.call)\n",
    "discriminator.call = tf.contrib.eager.defun(discriminator.call)"
   ]
  },
  {
   "cell_type": "markdown",
   "metadata": {},
   "source": [
    "## Define the loss functions and the optimizer"
   ]
  },
  {
   "cell_type": "code",
   "execution_count": null,
   "metadata": {},
   "outputs": [],
   "source": [
    "def GANLoss(logits, is_real=True):\n",
    "  \"\"\"Computes standard GAN loss between `logits` and `labels`.\n",
    "\n",
    "  Args:\n",
    "    logits (`1-rank Tensor`): logits.\n",
    "    is_real (`bool`): True means `1` labeling, False means `0` labeling.\n",
    "\n",
    "  Returns:\n",
    "    loss (`0-randk Tensor): the standard GAN loss value. (binary_cross_entropy)\n",
    "  \"\"\"\n",
    "  if is_real:\n",
    "    labels = tf.ones_like(logits)\n",
    "  else:\n",
    "    labels = tf.zeros_like(logits)\n",
    "\n",
    "  return tf.losses.sigmoid_cross_entropy(multi_class_labels=labels,\n",
    "                                         logits=logits)"
   ]
  },
  {
   "cell_type": "code",
   "execution_count": null,
   "metadata": {},
   "outputs": [],
   "source": [
    "def discriminator_loss(real_logits, fake_logits):\n",
    "  # losses of real with label \"1\"\n",
    "  real_loss = GANLoss(logits=real_logits, is_real=True)\n",
    "  # losses of fake with label \"0\"\n",
    "  fake_loss = GANLoss(logits=fake_logits, is_real=False)\n",
    "  \n",
    "  return real_loss + fake_loss"
   ]
  },
  {
   "cell_type": "code",
   "execution_count": null,
   "metadata": {},
   "outputs": [],
   "source": [
    "def generator_loss(fake_logits):\n",
    "  # losses of Generator with label \"1\" that used to fool the Discriminator\n",
    "  return GANLoss(logits=fake_logits, is_real=True)"
   ]
  },
  {
   "cell_type": "code",
   "execution_count": null,
   "metadata": {},
   "outputs": [],
   "source": [
    "#discriminator_optimizer = tf.train.AdamOptimizer(learning_rate_D, beta1=0.5)\n",
    "discriminator_optimizer = tf.train.RMSPropOptimizer(learning_rate_D)\n",
    "generator_optimizer = tf.train.AdamOptimizer(learning_rate_G, beta1=0.5)"
   ]
  },
  {
   "cell_type": "markdown",
   "metadata": {},
   "source": [
    "## Checkpoints (Object-based saving)"
   ]
  },
  {
   "cell_type": "code",
   "execution_count": null,
   "metadata": {},
   "outputs": [],
   "source": [
    "checkpoint_dir = train_dir\n",
    "if not tf.gfile.Exists(checkpoint_dir):\n",
    "  tf.gfile.MakeDirs(checkpoint_dir)\n",
    "checkpoint_prefix = os.path.join(checkpoint_dir, \"ckpt\")\n",
    "checkpoint = tf.train.Checkpoint(generator_optimizer=generator_optimizer,\n",
    "                                 discriminator_optimizer=discriminator_optimizer,\n",
    "                                 generator=generator,\n",
    "                                 discriminator=discriminator)"
   ]
  },
  {
   "cell_type": "markdown",
   "metadata": {},
   "source": [
    "## Training"
   ]
  },
  {
   "cell_type": "code",
   "execution_count": null,
   "metadata": {},
   "outputs": [],
   "source": [
    "# keeping the random vector constant for generation (prediction) so\n",
    "# it will be easier to see the improvement of the gan.\n",
    "random_vector_for_generation = tf.random_normal([num_examples_to_generate, 1, 1, noise_dim])"
   ]
  },
  {
   "cell_type": "code",
   "execution_count": null,
   "metadata": {},
   "outputs": [],
   "source": [
    "tf.logging.info('Start Training.')\n",
    "global_step = tf.train.get_or_create_global_step()\n",
    "\n",
    "sample_condition = tf.eye(num_classes)\n",
    "sample_condition = tf.reshape(sample_condition, [-1, 1, 1, num_classes])\n",
    "  \n",
    "for epoch in range(max_epochs):\n",
    "  \n",
    "  for images, labels in train_dataset:\n",
    "    start_time = time.time()\n",
    "    \n",
    "    # generating noise from a uniform distribution\n",
    "    noise = tf.random_normal([batch_size, 1, 1, noise_dim])\n",
    "\n",
    "    with tf.GradientTape() as gen_tape, tf.GradientTape() as disc_tape:\n",
    "      generated_images = generator(noise, labels, training=True)\n",
    "\n",
    "      real_logits = discriminator(images, labels, training=True)\n",
    "      fake_logits = discriminator(generated_images, labels, training=True)\n",
    "\n",
    "      gen_loss = generator_loss(fake_logits)\n",
    "      disc_loss = discriminator_loss(real_logits, fake_logits)\n",
    "\n",
    "    gradients_of_generator = gen_tape.gradient(gen_loss, generator.variables)\n",
    "    gradients_of_discriminator = disc_tape.gradient(disc_loss, discriminator.variables)\n",
    "\n",
    "    generator_optimizer.apply_gradients(zip(gradients_of_generator, generator.variables),\n",
    "                                        global_step=global_step)\n",
    "    discriminator_optimizer.apply_gradients(zip(gradients_of_discriminator, discriminator.variables))\n",
    "    \n",
    "    epochs = global_step.numpy() * batch_size / float(N)\n",
    "    duration = time.time() - start_time\n",
    "\n",
    "    if global_step.numpy() % print_steps == 0:\n",
    "      display.clear_output(wait=True)\n",
    "      examples_per_sec = batch_size / float(duration)\n",
    "      print(\"Epochs: {:.2f} global_step: {} loss_D: {:.3f} loss_G: {:.3f} ({:.2f} examples/sec; {:.3f} sec/batch)\".format(\n",
    "                epochs, global_step.numpy(), disc_loss, gen_loss, examples_per_sec, duration))\n",
    "      sample_images = generator(random_vector_for_generation, sample_condition, training=False)\n",
    "      utils.print_or_save_sample_images(sample_images.numpy(), num_examples_to_generate)\n",
    "\n",
    "  if epoch % save_images_epochs == 0:\n",
    "    display.clear_output(wait=True)\n",
    "    print(\"This images are saved at {} epoch\".format(epoch+1))\n",
    "    sample_images = generator(random_vector_for_generation, sample_condition, training=False)\n",
    "    utils.print_or_save_sample_images(sample_images.numpy(), num_examples_to_generate,\n",
    "                                      is_save=True, epoch=epoch+1,\n",
    "                                      checkpoint_dir=checkpoint_dir)\n",
    "\n",
    "  # saving (checkpoint) the model every save_epochs\n",
    "  if (epoch + 1) % save_model_epochs == 0:\n",
    "    checkpoint.save(file_prefix = checkpoint_prefix)"
   ]
  },
  {
   "cell_type": "code",
   "execution_count": null,
   "metadata": {},
   "outputs": [],
   "source": [
    "# generating after the final epoch\n",
    "display.clear_output(wait=True)\n",
    "sample_images = generator(random_vector_for_generation, sample_condition, training=False)\n",
    "utils.print_or_save_sample_images(sample_images.numpy(), num_examples_to_generate,\n",
    "                                  is_save=True, epoch=epoch+1,\n",
    "                                  checkpoint_dir=checkpoint_dir)"
   ]
  },
  {
   "cell_type": "markdown",
   "metadata": {},
   "source": [
    "## Restore the latest checkpoint"
   ]
  },
  {
   "cell_type": "code",
   "execution_count": null,
   "metadata": {},
   "outputs": [],
   "source": [
    "# restoring the latest checkpoint in checkpoint_dir\n",
    "checkpoint.restore(tf.train.latest_checkpoint(checkpoint_dir))"
   ]
  },
  {
   "cell_type": "markdown",
   "metadata": {},
   "source": [
    "## Display an image using the epoch number"
   ]
  },
  {
   "cell_type": "code",
   "execution_count": null,
   "metadata": {},
   "outputs": [],
   "source": [
    "utils.display_image(max_epochs, checkpoint_dir)"
   ]
  },
  {
   "cell_type": "markdown",
   "metadata": {},
   "source": [
    "## Generate a GIF of all the saved images."
   ]
  },
  {
   "cell_type": "code",
   "execution_count": null,
   "metadata": {},
   "outputs": [],
   "source": [
    "filename = model_name + '.gif'\n",
    "utils.generate_gif(filename, checkpoint_dir)"
   ]
  },
  {
   "cell_type": "code",
   "execution_count": null,
   "metadata": {
    "scrolled": true
   },
   "outputs": [],
   "source": [
    "display.Image(filename=filename + '.png')"
   ]
  }
 ],
 "metadata": {
  "kernelspec": {
   "display_name": "Python 3",
   "language": "python",
   "name": "python3"
  },
  "language_info": {
   "codemirror_mode": {
    "name": "ipython",
    "version": 3
   },
   "file_extension": ".py",
   "mimetype": "text/x-python",
   "name": "python",
   "nbconvert_exporter": "python",
   "pygments_lexer": "ipython3",
   "version": "3.6.5"
  }
 },
 "nbformat": 4,
 "nbformat_minor": 2
}
