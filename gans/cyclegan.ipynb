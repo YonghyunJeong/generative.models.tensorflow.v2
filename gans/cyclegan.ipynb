{
 "cells": [
  {
   "cell_type": "markdown",
   "metadata": {},
   "source": [
    "# CycleGAN [with horse2zebra dataset]\n",
    "\n",
    "* `Unpaired Image-to-Image Translation using Cycle-Consistent Adversarial Networks`, [arXiv:1703.10593](https://arxiv.org/abs/1703.10593)\n",
    "  * Jun-Yan Zhu, Taesung Park, Phillip Isola, Alexei A. Efros\n",
    "  \n",
    "* Implemented by [`tf.keras.layers`](https://www.tensorflow.org/api_docs/python/tf/keras/layers) and [`eager execution`](https://www.tensorflow.org/guide/eager)."
   ]
  },
  {
   "cell_type": "markdown",
   "metadata": {},
   "source": [
    "## Import modules"
   ]
  },
  {
   "cell_type": "code",
   "execution_count": null,
   "metadata": {
    "ExecuteTime": {
     "end_time": "2019-03-07T11:49:56.506630Z",
     "start_time": "2019-03-07T11:49:54.500665Z"
    }
   },
   "outputs": [],
   "source": [
    "from __future__ import absolute_import\n",
    "from __future__ import division\n",
    "from __future__ import print_function\n",
    "\n",
    "import os\n",
    "import sys\n",
    "import time\n",
    "import glob\n",
    "\n",
    "import numpy as np\n",
    "import matplotlib.pyplot as plt\n",
    "%matplotlib inline\n",
    "\n",
    "import PIL\n",
    "import imageio\n",
    "from IPython import display\n",
    "#import wget\n",
    "import urllib.request\n",
    "import zipfile\n",
    "\n",
    "import tensorflow as tf\n",
    "from tensorflow.keras import layers\n",
    "tf.enable_eager_execution()\n",
    "\n",
    "tf.logging.set_verbosity(tf.logging.INFO)\n",
    "\n",
    "os.environ[\"CUDA_VISIBLE_DEVICES\"]=\"0\""
   ]
  },
  {
   "cell_type": "markdown",
   "metadata": {},
   "source": [
    "## Setting hyperparameters"
   ]
  },
  {
   "cell_type": "code",
   "execution_count": null,
   "metadata": {
    "ExecuteTime": {
     "end_time": "2019-03-07T11:49:56.622917Z",
     "start_time": "2019-03-07T11:49:56.615504Z"
    }
   },
   "outputs": [],
   "source": [
    "# Training Flags (hyperparameter configuration)\n",
    "model_name = 'cyclegan'\n",
    "train_dir = 'train/' + model_name + '/exp1/'\n",
    "max_epochs = 200\n",
    "save_model_epochs = 20\n",
    "print_steps = 1\n",
    "save_images_epochs = 5\n",
    "batch_size = 1\n",
    "learning_rate_D = 2e-4\n",
    "learning_rate_G = 2e-4\n",
    "\n",
    "BUFFER_SIZE = 5000\n",
    "IMG_SIZE = 128\n",
    "assert IMG_SIZE in [128, 256]\n",
    "LAMBDA = 10"
   ]
  },
  {
   "cell_type": "markdown",
   "metadata": {},
   "source": [
    "## Load the dataset\n",
    "\n",
    "You can download this dataset and similar datasets from [here](https://people.eecs.berkeley.edu/~taesung_park/CycleGAN/datasets/). \n",
    "This script source is borrowed from [original CycleGAN github repo.](https://github.com/junyanz/CycleGAN/blob/master/datasets/download_dataset.sh)\n",
    "\n",
    "\n",
    "As mentioned in the [paper](https://arxiv.org/abs/1703.10593) we apply random jittering and mirroring to the training dataset.\n",
    "* In random jittering, the image is resized to 286 x 286 and then randomly cropped to 256 x 256\n",
    "* In random mirroring, the image is randomly flipped horizontally i.e left to right."
   ]
  },
  {
   "cell_type": "code",
   "execution_count": null,
   "metadata": {
    "ExecuteTime": {
     "end_time": "2019-03-07T11:49:56.774447Z",
     "start_time": "2019-03-07T11:49:56.758548Z"
    }
   },
   "outputs": [],
   "source": [
    "DATASETS = [\"ae_photos\",\n",
    "            \"apple2orange\",\n",
    "            \"summer2winter_yosemite\",\n",
    "            \"horse2zebra\",\n",
    "            \"monet2photo\",\n",
    "            \"cezanne2photo\",\n",
    "            \"ukiyoe2photo\",\n",
    "            \"vangogh2photo\",\n",
    "            \"maps\",\n",
    "            \"cityscapes\",\n",
    "            \"facades\",\n",
    "            \"iphone2dslr_flower\",\n",
    "            \"ae_photos\"]\n",
    "\n",
    "DATASET_YOUWANT = \"horse2zebra\"\n",
    "\n",
    "url = 'https://people.eecs.berkeley.edu/~taesung_park/CycleGAN/datasets/' + DATASET_YOUWANT + '.zip'\n",
    "datasets_path = '../datasets'\n",
    "if not os.path.isdir(datasets_path):\n",
    "  os.makedirs(datasets_path)\n",
    "zipfile_path = os.path.join(datasets_path, DATASET_YOUWANT + '.zip')\n",
    "\n",
    "# Download dataset\n",
    "if not os.path.isfile(zipfile_path):\n",
    "  #wget.download(url, zipfile_path)\n",
    "  urllib.request.urlretrieve(url=url, filename=DATASET_YOUWANT + '.zip')\n",
    "  print('download done')\n",
    "else:\n",
    "  print('zipfile already exists')\n",
    "\n",
    "# Extract zipfile\n",
    "PATH = os.path.join(datasets_path, DATASET_YOUWANT)\n",
    "if not os.path.isdir(PATH):\n",
    "  zip_ref = zipfile.ZipFile(zipfile_path, 'r')\n",
    "  zip_ref.extractall(datasets_path)\n",
    "  print('zipfile extract done')\n",
    "else:\n",
    "  print('zipfile already extracted')"
   ]
  },
  {
   "cell_type": "markdown",
   "metadata": {},
   "source": [
    "## Set up dataset with `tf.data`"
   ]
  },
  {
   "cell_type": "code",
   "execution_count": null,
   "metadata": {
    "ExecuteTime": {
     "end_time": "2019-03-07T11:49:56.931786Z",
     "start_time": "2019-03-07T11:49:56.917168Z"
    }
   },
   "outputs": [],
   "source": [
    "def load_image(image_file, is_train):\n",
    "  image = tf.read_file(image_file)\n",
    "  image = tf.image.decode_jpeg(image, channels=3) # fix the output channels for intentionally\n",
    "  \n",
    "  input_image = tf.cast(image, tf.float32)\n",
    "\n",
    "  if is_train:\n",
    "    # random jittering\n",
    "    \n",
    "    # resizing to 286 x 286 x 3\n",
    "    if IMG_SIZE == 256:\n",
    "      RESIZE = 286\n",
    "    else:\n",
    "      RESIZE = 145\n",
    "    input_image = tf.image.resize_images(input_image, [RESIZE, RESIZE],\n",
    "                                         align_corners=True,\n",
    "                                         method=tf.image.ResizeMethod.NEAREST_NEIGHBOR)\n",
    "    \n",
    "    # randomly cropping to 256 x 256 x 3\n",
    "    input_image = tf.random_crop(input_image, size=[IMG_SIZE, IMG_SIZE, 3])\n",
    "\n",
    "    if np.random.random() > 0.5:\n",
    "      # random mirroring\n",
    "      input_image = tf.image.flip_left_right(input_image)\n",
    "  else:\n",
    "    input_image = tf.image.resize_images(input_image, size=[IMG_SIZE, IMG_SIZE],\n",
    "                                         align_corners=True, method=2)\n",
    "    \n",
    "  input_image = tf.clip_by_value(input_image, 0.0, 255.0)\n",
    "  \n",
    "  # normalizing the images to [-1, 1]\n",
    "  input_image = (input_image / 127.5) - 1\n",
    "\n",
    "  return input_image"
   ]
  },
  {
   "cell_type": "markdown",
   "metadata": {},
   "source": [
    "### Use tf.data to create batches, map(do preprocessing) and shuffle the dataset"
   ]
  },
  {
   "cell_type": "code",
   "execution_count": null,
   "metadata": {
    "ExecuteTime": {
     "end_time": "2019-03-07T11:49:57.116094Z",
     "start_time": "2019-03-07T11:49:57.064331Z"
    }
   },
   "outputs": [],
   "source": [
    "trainX_dataset = tf.data.Dataset.list_files(os.path.join(PATH, 'trainA/*.jpg'))"
   ]
  },
  {
   "cell_type": "code",
   "execution_count": null,
   "metadata": {
    "ExecuteTime": {
     "end_time": "2019-03-07T11:49:57.341133Z",
     "start_time": "2019-03-07T11:49:57.258495Z"
    }
   },
   "outputs": [],
   "source": [
    "N_trainX = len(glob.glob(os.path.join(PATH, 'trainA/*.jpg')))\n",
    "trainX_dataset = tf.data.Dataset.list_files(os.path.join(PATH, 'trainA/*.jpg'))\n",
    "trainX_dataset = trainX_dataset.shuffle(BUFFER_SIZE)\n",
    "trainX_dataset = trainX_dataset.map(lambda x: load_image(x, True))\n",
    "trainX_dataset = trainX_dataset.batch(batch_size, drop_remainder=True)"
   ]
  },
  {
   "cell_type": "code",
   "execution_count": null,
   "metadata": {
    "ExecuteTime": {
     "end_time": "2019-03-07T11:49:57.583805Z",
     "start_time": "2019-03-07T11:49:57.496547Z"
    }
   },
   "outputs": [],
   "source": [
    "N_trainY = len(glob.glob(os.path.join(PATH, 'trainB/*.jpg')))\n",
    "trainY_dataset = tf.data.Dataset.list_files(os.path.join(PATH, 'trainB/*.jpg'))\n",
    "trainY_dataset = trainY_dataset.shuffle(BUFFER_SIZE)\n",
    "trainY_dataset = trainY_dataset.map(lambda x: load_image(x, True))\n",
    "trainY_dataset = trainY_dataset.batch(batch_size, drop_remainder=True)"
   ]
  },
  {
   "cell_type": "code",
   "execution_count": null,
   "metadata": {
    "ExecuteTime": {
     "end_time": "2019-03-07T11:49:57.756230Z",
     "start_time": "2019-03-07T11:49:57.722355Z"
    }
   },
   "outputs": [],
   "source": [
    "testX_dataset = tf.data.Dataset.list_files(os.path.join(PATH, 'testA/*.jpg'))\n",
    "testX_dataset = testX_dataset.map(lambda x: load_image(x, False))\n",
    "testX_dataset = testX_dataset.batch(batch_size, drop_remainder=True)"
   ]
  },
  {
   "cell_type": "code",
   "execution_count": null,
   "metadata": {
    "ExecuteTime": {
     "end_time": "2019-03-07T11:49:57.929787Z",
     "start_time": "2019-03-07T11:49:57.901478Z"
    }
   },
   "outputs": [],
   "source": [
    "testY_dataset = tf.data.Dataset.list_files(os.path.join(PATH, 'testB/*.jpg'))\n",
    "testY_dataset = testY_dataset.map(lambda x: load_image(x, False))\n",
    "testY_dataset = testY_dataset.batch(batch_size, drop_remainder=True)"
   ]
  },
  {
   "cell_type": "markdown",
   "metadata": {},
   "source": [
    "## Write the generator and discriminator models\n",
    "\n",
    "* **Generator**\n",
    "  * The architecture of generator is a modified U-Net.\n",
    "  * Each block in the encoder is (Conv -> Batchnorm -> Leaky ReLU)\n",
    "  * Each block in the decoder is (Transposed Conv -> Batchnorm -> Dropout(applied to the first 3 blocks) -> ReLU)\n",
    "  * There are skip connections between the encoder and decoder (as in U-Net).\n",
    "\n",
    "* **Discriminator**\n",
    "  * The Discriminator is a PatchGAN.\n",
    "  * Each block in the discriminator is (Conv -> BatchNorm -> Leaky ReLU)\n",
    "  * The shape of the output after the last layer is (batch_size, 30, 30, 1)\n",
    "  * Each 30x30 patch of the output classifies a 70x70 portion of the input image (such an architecture is called a PatchGAN).\n",
    "  * Discriminator receives 2 inputs.\n",
    "    * Input image and the target image, which it should classify as real.\n",
    "    * Input image and the generated image (output of generator), which it should classify as fake.\n",
    "    * We concatenate these 2 inputs together in the code (tf.concat([inp, tar], axis=-1))\n",
    "  * Shape of the input travelling through the generator and the discriminator is in the comments in the code.\n",
    "\n",
    "To learn more about the architecture and the hyperparameters you can refer the [paper](https://arxiv.org/abs/1611.07004)."
   ]
  },
  {
   "cell_type": "code",
   "execution_count": null,
   "metadata": {
    "ExecuteTime": {
     "end_time": "2019-03-07T11:49:58.101648Z",
     "start_time": "2019-03-07T11:49:58.088644Z"
    }
   },
   "outputs": [],
   "source": [
    "class Conv(tf.keras.Model):\n",
    "  def __init__(self, filters, size, strides, activation='relu'):\n",
    "    super(Conv, self).__init__()\n",
    "    self.conv = layers.Conv2D(filters=filters,\n",
    "                              kernel_size=(size, size),\n",
    "                              strides=strides,\n",
    "                              padding='same',\n",
    "                              kernel_initializer=tf.random_normal_initializer(0., 0.02),\n",
    "                              use_bias=False)\n",
    "    self.batchnorm = layers.BatchNormalization()\n",
    "    assert activation in ['relu', 'tanh', 'none']\n",
    "    self.activation = activation\n",
    "  \n",
    "  def call(self, x, training):\n",
    "    x = self.conv(x)\n",
    "    x = self.batchnorm(x, training=training)\n",
    "    if self.activation == 'relu':\n",
    "      x = tf.nn.relu(x)\n",
    "    elif self.activation == 'tanh':\n",
    "      x = tf.nn.tanh(x)\n",
    "    else:\n",
    "      pass\n",
    "    \n",
    "    return x"
   ]
  },
  {
   "cell_type": "code",
   "execution_count": null,
   "metadata": {
    "ExecuteTime": {
     "end_time": "2019-03-07T11:49:58.284792Z",
     "start_time": "2019-03-07T11:49:58.273786Z"
    }
   },
   "outputs": [],
   "source": [
    "class ResBlock(tf.keras.Model):\n",
    "  def __init__(self, filters, size):\n",
    "    super(ResBlock, self).__init__()\n",
    "    self.conv1 = layers.Conv2D(filters=filters,\n",
    "                               kernel_size=(size, size),\n",
    "                               padding='same',\n",
    "                               activation='relu',\n",
    "                               kernel_initializer=tf.random_normal_initializer(0., 0.02))\n",
    "    self.conv2 = layers.Conv2D(filters=filters,\n",
    "                               kernel_size=(size, size),\n",
    "                               padding='same',\n",
    "                               kernel_initializer=tf.random_normal_initializer(0., 0.02))\n",
    "  \n",
    "  def call(self, x):\n",
    "    conv = self.conv1(x)\n",
    "    conv = self.conv2(conv)\n",
    "    x = tf.nn.relu(x + conv)\n",
    "    \n",
    "    return x"
   ]
  },
  {
   "cell_type": "code",
   "execution_count": null,
   "metadata": {
    "ExecuteTime": {
     "end_time": "2019-03-07T11:49:58.471647Z",
     "start_time": "2019-03-07T11:49:58.465499Z"
    }
   },
   "outputs": [],
   "source": [
    "class ConvTranspose(tf.keras.Model):\n",
    "  def __init__(self, filters, size):\n",
    "    super(ConvTranspose, self).__init__()\n",
    "    self.up_conv = layers.Conv2DTranspose(filters=filters,\n",
    "                                          kernel_size=(size, size),\n",
    "                                          strides=2,\n",
    "                                          padding='same',\n",
    "                                          kernel_initializer=tf.random_normal_initializer(0., 0.02),\n",
    "                                          use_bias=False)\n",
    "    self.batchnorm = layers.BatchNormalization()\n",
    "\n",
    "  def call(self, x, training):\n",
    "    x = self.up_conv(x)\n",
    "    x = self.batchnorm(x, training=training)\n",
    "    x = tf.nn.relu(x)\n",
    "    \n",
    "    return x"
   ]
  },
  {
   "cell_type": "code",
   "execution_count": null,
   "metadata": {
    "ExecuteTime": {
     "end_time": "2019-03-07T11:49:58.948856Z",
     "start_time": "2019-03-07T11:49:58.939080Z"
    }
   },
   "outputs": [],
   "source": [
    "class Generator(tf.keras.Model):\n",
    "  def __init__(self, inputs_shape=256):\n",
    "    super(Generator, self).__init__()\n",
    "    assert inputs_shape in [128, 256]\n",
    "    self.inputs_shape = inputs_shape\n",
    "    self.conv = Conv(32, 7, 1) # c7s1-32\n",
    "    self.down1 = Conv(64, 3, 2) # d64\n",
    "    self.down2 = Conv(128, 3, 2) # d128\n",
    "    \n",
    "    self.res1 = ResBlock(128, 3) # R128\n",
    "    self.res2 = ResBlock(128, 3) # R128\n",
    "    self.res3 = ResBlock(128, 3) # R128\n",
    "    self.res4 = ResBlock(128, 3) # R128\n",
    "    self.res5 = ResBlock(128, 3) # R128\n",
    "    \n",
    "    if self.inputs_shape == 256:\n",
    "      self.res6 = ResBlock(128, 3) # R128\n",
    "      self.res7 = ResBlock(128, 3) # R128\n",
    "      self.res8 = ResBlock(128, 3) # R128\n",
    "      self.res9 = ResBlock(128, 3) # R128\n",
    "\n",
    "    self.up1 = ConvTranspose(64, 3) # u64\n",
    "    self.up2 = ConvTranspose(32, 3) # u32\n",
    "    self.last = Conv(3, 7, 1, 'tanh') # c7s1-3\n",
    "  \n",
    "  #@tf.contrib.eager.defun\n",
    "  def call(self, x, training):\n",
    "    # x shape == (bs, 256, 256, 3)\n",
    "    x1 = self.conv(x, training=training)   # x1 shape: (bs, 256, 256, 32)\n",
    "    x2 = self.down1(x1, training=training) # x2 shape: (bs, 128, 128, 64)\n",
    "    x3 = self.down2(x2, training=training) # x3 shape: (bs, 64, 64, 128)\n",
    "    \n",
    "    x4 = self.res1(x3)                     # x4 shape: (bs, 64, 64, 128)\n",
    "    x5 = self.res2(x4)                     # x5 shape: (bs, 64, 64, 128)\n",
    "    x6 = self.res3(x5)                     # x6 shape: (bs, 64, 64, 128)\n",
    "    x7 = self.res4(x6)                     # x7 shape: (bs, 64, 64, 128)\n",
    "    x8 = self.res5(x7)                     # x8 shape: (bs, 64, 64, 128)\n",
    "    \n",
    "    if self.inputs_shape == 256:\n",
    "      x9 = self.res6(x8)                   # x9 shape: (bs, 64, 64, 128)\n",
    "      x10 = self.res7(x9)                  # x10 shape: (bs, 64, 64, 128)\n",
    "      x11 = self.res8(x10)                 # x11 shape: (bs, 64, 64, 128)\n",
    "      x12 = self.res9(x11)                 # x12 shape: (bs, 64, 64, 128)\n",
    "    else:\n",
    "      x12 = x8\n",
    "\n",
    "    x13 = self.up1(x12, training=training) # x13 shape: (bs, 128, 128, 64)\n",
    "    x14 = self.up2(x13, training=training) # x14 shape: (bs, 256, 256, 32)\n",
    "\n",
    "    generated_images = self.last(x14, training=training) # generated_images shape: (bs, 256, 256, 3)\n",
    "\n",
    "    return generated_images"
   ]
  },
  {
   "cell_type": "code",
   "execution_count": null,
   "metadata": {
    "ExecuteTime": {
     "end_time": "2019-03-07T11:49:59.417770Z",
     "start_time": "2019-03-07T11:49:59.410422Z"
    }
   },
   "outputs": [],
   "source": [
    "class DiscDownsample(tf.keras.Model):\n",
    "  def __init__(self, filters, size, apply_batchnorm=True):\n",
    "    super(DiscDownsample, self).__init__()\n",
    "    self.apply_batchnorm = apply_batchnorm\n",
    "    self.conv = layers.Conv2D(filters=filters,\n",
    "                              kernel_size=(size, size),\n",
    "                              strides=2,\n",
    "                              padding='same',\n",
    "                              kernel_initializer=tf.random_normal_initializer(0., 0.02),\n",
    "                              use_bias=False)\n",
    "    if self.apply_batchnorm:\n",
    "      self.batchnorm = layers.BatchNormalization()\n",
    "  \n",
    "  def call(self, x, training):\n",
    "    x = self.conv(x)\n",
    "    if self.apply_batchnorm:\n",
    "      x = self.batchnorm(x, training=training)\n",
    "    x = tf.nn.leaky_relu(x)\n",
    "\n",
    "    return x"
   ]
  },
  {
   "cell_type": "code",
   "execution_count": null,
   "metadata": {
    "ExecuteTime": {
     "end_time": "2019-03-07T11:50:00.098525Z",
     "start_time": "2019-03-07T11:50:00.092019Z"
    }
   },
   "outputs": [],
   "source": [
    "class Discriminator(tf.keras.Model):\n",
    "  def __init__(self):\n",
    "    super(Discriminator, self).__init__()    \n",
    "    self.down1 = DiscDownsample(64, 4, False) # C64\n",
    "    self.down2 = DiscDownsample(128, 4)        # C128\n",
    "    self.down3 = DiscDownsample(256, 4)        # C256\n",
    "    self.down4 = DiscDownsample(512, 4)        # C512\n",
    "    self.last = Conv(1, 4, 1, 'none')          # last\n",
    "  \n",
    "  #@tf.contrib.eager.defun\n",
    "  def call(self, x, training):\n",
    "    # x shape == (bs, 256, 256, 3)\n",
    "    x = self.down1(x, training=training) # (bs, 128, 128, 64)\n",
    "    x = self.down2(x, training=training) # (bs, 64, 64, 128)\n",
    "    x = self.down3(x, training=training) # (bs, 32, 32, 256)\n",
    "    x = self.down4(x, training=training) # (bs, 16, 16, 512)\n",
    "    x = self.last(x, training=training)  # (bs, 16, 16, 1)\n",
    "\n",
    "    return x"
   ]
  },
  {
   "cell_type": "code",
   "execution_count": null,
   "metadata": {
    "ExecuteTime": {
     "end_time": "2019-03-07T11:50:00.522352Z",
     "start_time": "2019-03-07T11:50:00.457486Z"
    }
   },
   "outputs": [],
   "source": [
    "# The call function of Generator and Discriminator have been decorated\n",
    "# with tf.contrib.eager.defun()\n",
    "# We get a performance speedup if defun is used (~25 seconds per epoch)\n",
    "generator_X2Y = Generator(inputs_shape=IMG_SIZE) # This generator_X2Y corresponds to function G: X -> Y in paper's notation\n",
    "generator_Y2X = Generator(inputs_shape=IMG_SIZE) # This generator_Y2X corresponds to function F: Y -> X in paper's notation\n",
    "discriminator_X = Discriminator() # This discriminator_X corresponds to function D_X in paper's notation\n",
    "discriminator_Y = Discriminator() # This discriminator_Y corresponds to function D_Y in paper's notation"
   ]
  },
  {
   "cell_type": "markdown",
   "metadata": {},
   "source": [
    "## Define the loss functions and the optimizer\n",
    "\n",
    "* **Discriminator loss**\n",
    "  * The discriminator loss function takes 2 inputs; real images, generated images\n",
    "  * real_loss is a sigmoid cross entropy loss of the real images and an array of ones(since these are the real images)\n",
    "  * generated_loss is a sigmoid cross entropy loss of the generated images and an array of zeros(since these are the fake images)\n",
    "  * Then the total_loss is the sum of real_loss and the generated_loss\n",
    "* **Generator loss**\n",
    "  * It is a sigmoid cross entropy loss of the generated images and an array of ones.\n",
    "  * The paper also includes L1 loss which is MAE (mean absolute error) between the generated image and the target image.\n",
    "  * This allows the generated image to become structurally similar to the target image.\n",
    "  * The formula to calculate the total generator loss = gan_loss + LAMBDA * l1_loss, where LAMBDA = 100. This value was decided by the authors of the paper."
   ]
  },
  {
   "cell_type": "code",
   "execution_count": null,
   "metadata": {
    "ExecuteTime": {
     "end_time": "2019-03-07T11:50:02.103415Z",
     "start_time": "2019-03-07T11:50:02.098818Z"
    }
   },
   "outputs": [],
   "source": [
    "def GANLoss(logits, is_real=True):\n",
    "  \"\"\"Computes standard GAN loss between `logits` and `labels`.\n",
    "\n",
    "  Args:\n",
    "    logits (`1-rank Tensor`): logits.\n",
    "    is_real (`bool`): True means `1` labeling, False means `0` labeling.\n",
    "\n",
    "  Returns:\n",
    "    loss (`0-randk Tensor): the standard GAN loss value. (binary_cross_entropy)\n",
    "  \"\"\"\n",
    "  if is_real:\n",
    "    labels = tf.ones_like(logits)\n",
    "  else:\n",
    "    labels = tf.zeros_like(logits)\n",
    "  \n",
    "  return tf.losses.sigmoid_cross_entropy(multi_class_labels=labels,\n",
    "                                         logits=logits)"
   ]
  },
  {
   "cell_type": "code",
   "execution_count": null,
   "metadata": {
    "ExecuteTime": {
     "end_time": "2019-03-07T11:50:02.702805Z",
     "start_time": "2019-03-07T11:50:02.698416Z"
    }
   },
   "outputs": [],
   "source": [
    "def discriminator_loss(real_logits, fake_logits):\n",
    "#def discriminator_loss(disc_real_output, disc_generated_output):\n",
    "  # losses of real with label \"1\"\n",
    "  real_loss = GANLoss(logits=real_logits, is_real=True)\n",
    "  # losses of fake with label \"0\"\n",
    "  fake_loss = GANLoss(logits=fake_logits, is_real=False)\n",
    "  \n",
    "  return real_loss + fake_loss"
   ]
  },
  {
   "cell_type": "code",
   "execution_count": null,
   "metadata": {
    "ExecuteTime": {
     "end_time": "2019-03-07T11:50:02.895376Z",
     "start_time": "2019-03-07T11:50:02.892140Z"
    }
   },
   "outputs": [],
   "source": [
    "def cycle_consistency_loss(X, X2Y2X):\n",
    "  cycle_loss = tf.reduce_mean(tf.abs(X - X2Y2X))\n",
    "  return cycle_loss"
   ]
  },
  {
   "cell_type": "code",
   "execution_count": null,
   "metadata": {
    "ExecuteTime": {
     "end_time": "2019-03-07T11:50:05.401108Z",
     "start_time": "2019-03-07T11:50:05.396799Z"
    }
   },
   "outputs": [],
   "source": [
    "def generator_loss(fake_logits, imagesX, generated_images_X2Y2X):\n",
    "  # losses of Generator with label \"1\" that used to fool the Discriminator\n",
    "  gan_loss = GANLoss(logits=fake_logits, is_real=True)\n",
    "  \n",
    "  # mean absolute error\n",
    "  cycle_loss = cycle_consistency_loss(imagesX, generated_images_X2Y2X)\n",
    "\n",
    "  return gan_loss + (LAMBDA * cycle_loss)"
   ]
  },
  {
   "cell_type": "code",
   "execution_count": null,
   "metadata": {
    "ExecuteTime": {
     "end_time": "2019-03-07T11:50:06.754484Z",
     "start_time": "2019-03-07T11:50:06.748650Z"
    }
   },
   "outputs": [],
   "source": [
    "#discriminator_optimizer = tf.train.RMSPropOptimizer(learning_rate_D)\n",
    "discriminator_optimizer = tf.train.AdamOptimizer(learning_rate_D, beta1=0.5)\n",
    "generator_optimizer = tf.train.AdamOptimizer(learning_rate_G, beta1=0.5)"
   ]
  },
  {
   "cell_type": "markdown",
   "metadata": {},
   "source": [
    "## Checkpoints (Object-based saving)"
   ]
  },
  {
   "cell_type": "code",
   "execution_count": null,
   "metadata": {
    "ExecuteTime": {
     "end_time": "2019-03-07T11:50:08.481667Z",
     "start_time": "2019-03-07T11:50:08.475859Z"
    }
   },
   "outputs": [],
   "source": [
    "checkpoint_dir = train_dir\n",
    "if not tf.gfile.Exists(checkpoint_dir):\n",
    "  tf.gfile.MakeDirs(checkpoint_dir)\n",
    "checkpoint_prefix = os.path.join(checkpoint_dir, \"ckpt\")\n",
    "checkpoint = tf.train.Checkpoint(generator_optimizer=generator_optimizer,\n",
    "                                 discriminator_optimizer=discriminator_optimizer,\n",
    "                                 generator_X2Y=generator_X2Y,\n",
    "                                 generator_Y2X=generator_Y2X,\n",
    "                                 discriminator_X=discriminator_X,\n",
    "                                 discriminator_Y=discriminator_Y)"
   ]
  },
  {
   "cell_type": "markdown",
   "metadata": {},
   "source": [
    "## Training"
   ]
  },
  {
   "cell_type": "code",
   "execution_count": null,
   "metadata": {
    "ExecuteTime": {
     "end_time": "2019-03-07T11:50:16.585500Z",
     "start_time": "2019-03-07T11:50:16.578800Z"
    }
   },
   "outputs": [],
   "source": [
    "def print_or_save_sample_images(X, X2Y, X2Y2X, name,\n",
    "                                is_save=False, epoch=None, checkpoint_dir=checkpoint_dir):\n",
    "  plt.figure(figsize=(15, 5))\n",
    "  plt.subplots_adjust(left=0.05, right=0.95, top=0.95, bottom=0.05)\n",
    "\n",
    "  display_list = [X[0], X2Y[0], X2Y2X[0]]\n",
    "  title = ['X domain', 'X -> Y', 'X -> Y -> X']\n",
    "\n",
    "  for i in range(3):\n",
    "    plt.subplot(1, 3, i+1)\n",
    "    plt.title(title[i])\n",
    "    # getting the pixel values between [0, 1] to plot it.\n",
    "    plt.imshow(display_list[i] * 0.5 + 0.5)\n",
    "    plt.axis('off')\n",
    "      \n",
    "  assert name in ['X2Y2X', 'Y2X2Y']\n",
    "  if is_save and epoch is not None:\n",
    "    if name == 'X2Y2X':\n",
    "      filepath = os.path.join(checkpoint_dir, 'image_X2Y2X_at_epoch_{:04d}.png'.format(epoch))\n",
    "    else:\n",
    "      filepath = os.path.join(checkpoint_dir, 'image_Y2X2Y_at_epoch_{:04d}.png'.format(epoch))\n",
    "    plt.savefig(filepath)\n",
    "    \n",
    "  plt.show() "
   ]
  },
  {
   "cell_type": "code",
   "execution_count": null,
   "metadata": {
    "ExecuteTime": {
     "end_time": "2019-03-07T11:50:18.198965Z",
     "start_time": "2019-03-07T11:50:18.147971Z"
    }
   },
   "outputs": [],
   "source": [
    "# keeping the constant test input for generation (prediction) so\n",
    "# it will be easier to see the improvement of the pix2pix.\n",
    "for inputs_X, inputs_Y in zip(testX_dataset.take(1), testY_dataset.take(1)):\n",
    "  const_test_input_X = inputs_X\n",
    "  const_test_input_Y = inputs_Y"
   ]
  },
  {
   "cell_type": "code",
   "execution_count": null,
   "metadata": {
    "ExecuteTime": {
     "end_time": "2019-03-07T11:50:20.459538Z",
     "start_time": "2019-03-07T11:50:19.703778Z"
    }
   },
   "outputs": [],
   "source": [
    "# Check for test data X -> Y -> X\n",
    "X2Y = generator_X2Y(const_test_input_X, training=False)\n",
    "X2Y2X = generator_Y2X(X2Y, training=False)\n",
    "print_or_save_sample_images(const_test_input_X, X2Y, X2Y2X, 'X2Y2X')"
   ]
  },
  {
   "cell_type": "code",
   "execution_count": null,
   "metadata": {
    "ExecuteTime": {
     "end_time": "2019-03-07T11:50:22.138065Z",
     "start_time": "2019-03-07T11:50:21.619973Z"
    }
   },
   "outputs": [],
   "source": [
    "# Check for test data Y -> X -> Y\n",
    "Y2X = generator_X2Y(const_test_input_Y, training=False)\n",
    "Y2X2Y = generator_Y2X(Y2X, training=False)\n",
    "print_or_save_sample_images(const_test_input_Y, Y2X, Y2X2Y, 'Y2X2Y')"
   ]
  },
  {
   "cell_type": "code",
   "execution_count": null,
   "metadata": {
    "ExecuteTime": {
     "end_time": "2019-03-07T11:50:22.677677Z",
     "start_time": "2019-03-07T11:50:22.667021Z"
    }
   },
   "outputs": [],
   "source": [
    "generator_X2Y.summary()"
   ]
  },
  {
   "cell_type": "code",
   "execution_count": null,
   "metadata": {
    "ExecuteTime": {
     "end_time": "2019-03-07T11:50:23.232074Z",
     "start_time": "2019-03-07T11:50:23.115190Z"
    }
   },
   "outputs": [],
   "source": [
    "dy = discriminator_Y(Y2X2Y, training=True)\n",
    "discriminator_Y.summary()"
   ]
  },
  {
   "cell_type": "code",
   "execution_count": null,
   "metadata": {
    "ExecuteTime": {
     "end_time": "2019-03-07T11:48:18.131566Z",
     "start_time": "2019-03-07T11:47:59.546983Z"
    },
    "scrolled": false
   },
   "outputs": [],
   "source": [
    "tf.logging.info('Start Training.')\n",
    "global_step = tf.train.get_or_create_global_step()\n",
    "N = min(N_trainX, N_trainY)\n",
    "for epoch in range(max_epochs):\n",
    "  \n",
    "  # End of 'for' loop depends on shorter dataset\n",
    "  for step, (imagesX, imagesY) in enumerate(zip(trainX_dataset, trainY_dataset)):\n",
    "    start_time = time.time()\n",
    "    \n",
    "    with tf.GradientTape() as gen_tape, tf.GradientTape() as disc_tape:\n",
    "      # Image generation from one domain to another domain\n",
    "      generated_images_X2Y = generator_X2Y(imagesX, training=True)  # G: X -> Y\n",
    "      generated_images_Y2X = generator_Y2X(imagesY, training=True)  # F: Y -> X\n",
    "      \n",
    "      # Image generation from one domain via another domain to original domain\n",
    "      generated_images_X2Y2X = generator_Y2X(generated_images_X2Y, training=True)  # F: Y -> X\n",
    "      generated_images_Y2X2Y = generator_X2Y(generated_images_Y2X, training=True)  # G: X -> Y\n",
    "\n",
    "      # Discriminate real images by Discriminator()\n",
    "      real_logits_X = discriminator_X(imagesX, training=True)  # D_X\n",
    "      real_logits_Y = discriminator_Y(imagesY, training=True)  # D_Y\n",
    "      \n",
    "      # Discriminate generated (fake) images by Discriminator()\n",
    "      fake_logits_X2Y = discriminator_Y(generated_images_X2Y, training=True) # D_Y\n",
    "      fake_logits_Y2X = discriminator_X(generated_images_Y2X, training=True) # D_X\n",
    "      \n",
    "      gen_X2Y_loss = generator_loss(fake_logits_X2Y, imagesX, generated_images_X2Y2X)\n",
    "      gen_Y2X_loss = generator_loss(fake_logits_Y2X, imagesY, generated_images_Y2X2Y)\n",
    "      disc_X_loss = discriminator_loss(real_logits_X, fake_logits_Y2X)\n",
    "      disc_Y_loss = discriminator_loss(real_logits_Y, fake_logits_X2Y)\n",
    "      \n",
    "      total_generator_loss = gen_X2Y_loss + gen_Y2X_loss\n",
    "      total_discriminator_loss = disc_X_loss + disc_Y_loss\n",
    "    \n",
    "    grads_generator = gen_tape.gradient(total_generator_loss,\n",
    "                                        generator_X2Y.variables + generator_Y2X.variables)\n",
    "    grads_discriminator = disc_tape.gradient(total_discriminator_loss,\n",
    "                                             discriminator_X.variables + discriminator_Y.variables)\n",
    "    \n",
    "    generator_optimizer.apply_gradients(zip(grads_generator,\n",
    "                                            generator_X2Y.variables + generator_Y2X.variables),\n",
    "                                        global_step=global_step)\n",
    "    discriminator_optimizer.apply_gradients(zip(grads_discriminator,\n",
    "                                                discriminator_X.variables + discriminator_Y.variables))\n",
    "                                            \n",
    "    epochs = epoch + step * batch_size / float(N)\n",
    "    duration = time.time() - start_time\n",
    "\n",
    "    if global_step.numpy() % print_steps == 0:\n",
    "      display.clear_output(wait=True)\n",
    "      examples_per_sec = batch_size / float(duration)\n",
    "      print(\"Epochs: {:.2f} global_step: {} loss_D_X: {:.3f} loss_D_Y: {:.3f} loss_G_X2Y: {:.3f} loss_F_Y2X: {:.3f} ({:.2f} examples/sec; {:.3f} sec/batch)\".format(\n",
    "                epochs, global_step.numpy(), disc_X_loss, disc_Y_loss, gen_X2Y_loss, gen_Y2X_loss, examples_per_sec, duration))\n",
    "      # generate sample image from random test image\n",
    "      # the training=True is intentional here since\n",
    "      # we want the batch statistics while running the model\n",
    "      # on the test dataset. If we use training=False, we will get \n",
    "      # the accumulated statistics learned from the training dataset\n",
    "      # (which we don't want)\n",
    "      for test_inputs_X, test_inputs_Y in zip(testX_dataset.take(1), testY_dataset.take(1)):\n",
    "        X2Y = generator_X2Y(test_inputs_X, training=False)\n",
    "        X2Y2X = generator_Y2X(X2Y, training=False)\n",
    "        print_or_save_sample_images(test_inputs_X, X2Y, X2Y2X, 'X2Y2X')\n",
    "\n",
    "        Y2X = generator_Y2X(test_inputs_Y, training=False)\n",
    "        Y2X2Y = generator_X2Y(Y2X, training=False)\n",
    "        print_or_save_sample_images(test_inputs_Y, Y2X, Y2X2Y, 'Y2X2Y')\n",
    "\n",
    "\n",
    "  if (epoch + 1) % save_images_epochs == 0:\n",
    "    display.clear_output(wait=True)\n",
    "    print(\"This images are saved at {} epoch\".format(epoch+1))\n",
    "    X2Y = generator_X2Y(test_input_X, training=False)\n",
    "    X2Y2X = generator_Y2X(X2Y, training=False)\n",
    "    print_or_save_sample_images(test_inputs_X, X2Y, X2Y2X, 'X2Y2X',\n",
    "                                is_save=True, epoch=epoch+1, checkpoint_dir=checkpoint_dir)\n",
    "\n",
    "    Y2X = generator_Y2X(test_input_Y, training=False)\n",
    "    Y2X2Y = generator_X2Y(Y2X, training=False)\n",
    "    print_or_save_sample_images(test_inputs_Y, Y2X, Y2X2Y, 'Y2X2Y',\n",
    "                                is_save=True, epoch=epoch+1, checkpoint_dir=checkpoint_dir)\n",
    "\n",
    "  # saving (checkpoint) the model every save_epochs\n",
    "  if (epoch + 1) % save_model_epochs == 0:\n",
    "    checkpoint.save(file_prefix = checkpoint_prefix)"
   ]
  },
  {
   "cell_type": "code",
   "execution_count": null,
   "metadata": {
    "ExecuteTime": {
     "end_time": "2019-03-07T11:46:53.972759Z",
     "start_time": "2019-03-07T11:46:45.978Z"
    }
   },
   "outputs": [],
   "source": [
    "# generating after the final epoch\n",
    "display.clear_output(wait=True)\n",
    "for test_inputs_X, test_inputs_Y in zip(testX_dataset.take(1), testY_dataset.take(1)):\n",
    "  X2Y = generator_X2Y(test_inputs_X, training=False)\n",
    "  Y2X = generator_Y2X(X2Y, training=False)\n",
    "  print_or_save_sample_images(test_inputs_X, X2Y, Y2X, 'X2Y2X')\n",
    "\n",
    "  Y2X = generator_Y2X(test_inputs_Y, training=False)\n",
    "  X2Y = generator_X2Y(Y2X, training=False)\n",
    "  print_or_save_sample_images(test_inputs_Y, Y2X, X2Y, 'Y2X2Y')"
   ]
  },
  {
   "cell_type": "markdown",
   "metadata": {},
   "source": [
    "## Restore the latest checkpoint"
   ]
  },
  {
   "cell_type": "code",
   "execution_count": null,
   "metadata": {
    "ExecuteTime": {
     "end_time": "2019-03-07T11:46:53.978286Z",
     "start_time": "2019-03-07T11:46:46.014Z"
    }
   },
   "outputs": [],
   "source": [
    "# restoring the latest checkpoint in checkpoint_dir\n",
    "checkpoint.restore(tf.train.latest_checkpoint(checkpoint_dir))"
   ]
  },
  {
   "cell_type": "markdown",
   "metadata": {},
   "source": [
    "## Display an image using the epoch number"
   ]
  },
  {
   "cell_type": "code",
   "execution_count": null,
   "metadata": {
    "ExecuteTime": {
     "end_time": "2019-03-07T11:46:53.981899Z",
     "start_time": "2019-03-07T11:46:46.054Z"
    }
   },
   "outputs": [],
   "source": [
    "def display_image(epoch_no, name='X2Y2X', checkpoint_dir=checkpoint_dir):\n",
    "  filepath = os.path.join(checkpoint_dir, 'image_at_epoch_{:04d}.png'.format(epoch_no))\n",
    "  \n",
    "  assert name in ['X2Y2X', 'Y2X2Y']\n",
    "  if name == 'X2Y2X':\n",
    "    filepath = os.path.join(checkpoint_dir, 'image_X2Y2X_at_epoch_{:04d}.png'.format(epoch_no))\n",
    "  else:\n",
    "    filepath = os.path.join(checkpoint_dir, 'image_Y2X2Y_at_epoch_{:04d}.png'.format(epoch_no))\n",
    "  \n",
    "  return PIL.Image.open(filepath)"
   ]
  },
  {
   "cell_type": "code",
   "execution_count": null,
   "metadata": {
    "ExecuteTime": {
     "end_time": "2019-03-07T11:46:53.985123Z",
     "start_time": "2019-03-07T11:46:46.056Z"
    }
   },
   "outputs": [],
   "source": [
    "display_image(max_epochs, 'X2Y2X')\n",
    "display_image(max_epochs, 'Y2X2Y')"
   ]
  },
  {
   "cell_type": "markdown",
   "metadata": {},
   "source": [
    "## Generate a GIF of all the saved images."
   ]
  },
  {
   "cell_type": "code",
   "execution_count": null,
   "metadata": {
    "ExecuteTime": {
     "end_time": "2019-03-07T11:46:53.989367Z",
     "start_time": "2019-03-07T11:46:46.091Z"
    }
   },
   "outputs": [],
   "source": [
    "with imageio.get_writer(model_name + '.gif', mode='I') as writer:\n",
    "  filenames = glob.glob(os.path.join(checkpoint_dir, 'image*.png'))\n",
    "  filenames = sorted(filenames)\n",
    "  last = -1\n",
    "  for i, filename in enumerate(filenames):\n",
    "    frame = 2*(i**0.5)\n",
    "    if round(frame) > round(last):\n",
    "      last = frame\n",
    "    else:\n",
    "      continue\n",
    "    image = imageio.imread(filename)\n",
    "    writer.append_data(image)\n",
    "  image = imageio.imread(filename)\n",
    "  writer.append_data(image)\n",
    "    \n",
    "# this is a hack to display the gif inside the notebook\n",
    "os.system('cp {}.gif {}.gif.png'.format(model_name, model_name))"
   ]
  },
  {
   "cell_type": "code",
   "execution_count": null,
   "metadata": {
    "ExecuteTime": {
     "end_time": "2019-03-07T11:46:53.991844Z",
     "start_time": "2019-03-07T11:46:46.094Z"
    },
    "scrolled": true
   },
   "outputs": [],
   "source": [
    "display.Image(filename=model_name + \".gif.png\")"
   ]
  }
 ],
 "metadata": {
  "kernelspec": {
   "display_name": "venv",
   "language": "python",
   "name": "venv"
  },
  "language_info": {
   "codemirror_mode": {
    "name": "ipython",
    "version": 3
   },
   "file_extension": ".py",
   "mimetype": "text/x-python",
   "name": "python",
   "nbconvert_exporter": "python",
   "pygments_lexer": "ipython3",
   "version": "3.6.5"
  },
  "latex_envs": {
   "LaTeX_envs_menu_present": true,
   "autoclose": false,
   "autocomplete": true,
   "bibliofile": "biblio.bib",
   "cite_by": "apalike",
   "current_citInitial": 1,
   "eqLabelWithNumbers": true,
   "eqNumInitial": 1,
   "hotkeys": {
    "equation": "Ctrl-E",
    "itemize": "Ctrl-I"
   },
   "labels_anchors": false,
   "latex_user_defs": false,
   "report_style_numbering": false,
   "user_envs_cfg": false
  },
  "toc": {
   "base_numbering": 1,
   "nav_menu": {},
   "number_sections": true,
   "sideBar": true,
   "skip_h1_title": false,
   "title_cell": "Table of Contents",
   "title_sidebar": "Contents",
   "toc_cell": false,
   "toc_position": {},
   "toc_section_display": true,
   "toc_window_display": false
  },
  "varInspector": {
   "cols": {
    "lenName": 16,
    "lenType": 16,
    "lenVar": 40
   },
   "kernels_config": {
    "python": {
     "delete_cmd_postfix": "",
     "delete_cmd_prefix": "del ",
     "library": "var_list.py",
     "varRefreshCmd": "print(var_dic_list())"
    },
    "r": {
     "delete_cmd_postfix": ") ",
     "delete_cmd_prefix": "rm(",
     "library": "var_list.r",
     "varRefreshCmd": "cat(var_dic_list()) "
    }
   },
   "types_to_exclude": [
    "module",
    "function",
    "builtin_function_or_method",
    "instance",
    "_Feature"
   ],
   "window_display": false
  }
 },
 "nbformat": 4,
 "nbformat_minor": 2
}
