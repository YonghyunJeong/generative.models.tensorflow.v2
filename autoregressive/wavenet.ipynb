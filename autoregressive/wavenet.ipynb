{
 "cells": [
  {
   "cell_type": "markdown",
   "metadata": {},
   "source": [
    "# WaveNet\n",
    "\n",
    "* `Wavenet: A generative model for raw audio`, [arXiv:1609.03499](https://arxiv.org/abs/1609.03499)\n",
    "  * Aa ̈ron van den Oord, Sander Dieleman, Heiga Zen, Karen Simonyan, Oriol Vinyals, Alex Graves, Nal Kalchbrenner, Andrew Senior, and Koray Kavukcuoglu\n",
    "\n",
    "* This code is available to tensorflow version 2.0\n",
    "* Implemented by [`tf.keras.layers`](https://www.tensorflow.org/versions/r2.0/api_docs/python/tf/keras/layers) and [`tf.losses`](https://www.tensorflow.org/versions/r2.0/api_docs/python/tf/losses)"
   ]
  },
  {
   "cell_type": "markdown",
   "metadata": {},
   "source": [
    "## Import modules"
   ]
  },
  {
   "cell_type": "code",
   "execution_count": null,
   "metadata": {},
   "outputs": [],
   "source": [
    "from __future__ import absolute_import\n",
    "from __future__ import division\n",
    "from __future__ import print_function\n",
    "from __future__ import unicode_literals\n",
    "\n",
    "import os\n",
    "import sys\n",
    "import time\n",
    "import glob\n",
    "\n",
    "import numpy as np\n",
    "import matplotlib.pyplot as plt\n",
    "%matplotlib inline\n",
    "\n",
    "import PIL\n",
    "import imageio\n",
    "from IPython import display\n",
    "\n",
    "import librosa\n",
    "import librosa.display\n",
    "\n",
    "import tensorflow as tf\n",
    "from tensorflow.keras import layers\n",
    "\n",
    "sys.path.append(os.path.dirname(os.path.abspath('.')))\n",
    "from utils.image_utils import *\n",
    "from utils.ops import *\n",
    "\n",
    "os.environ[\"CUDA_VISIBLE_DEVICES\"]=\"0\""
   ]
  },
  {
   "cell_type": "markdown",
   "metadata": {},
   "source": [
    "## Setting hyperparameters"
   ]
  },
  {
   "cell_type": "code",
   "execution_count": null,
   "metadata": {},
   "outputs": [],
   "source": [
    "# Training Flags (hyperparameter configuration)\n",
    "model_name = 'wavenet'\n",
    "train_dir = os.path.join('train', model_name, 'exp1')\n",
    "dataset_name = 'toy_data'\n",
    "assert dataset_name in ['toy_data']\n",
    "\n",
    "max_epochs = 10\n",
    "save_model_epochs = 1\n",
    "print_steps = 1\n",
    "save_images_epochs = 1\n",
    "batch_size = 1#128\n",
    "learning_rate = 5e-2\n",
    "num_examples_to_generate = 16\n",
    "MNIST_SIZE = 28\n",
    "hidden_dims = 500"
   ]
  },
  {
   "cell_type": "markdown",
   "metadata": {},
   "source": [
    "## Load or make the dataset"
   ]
  },
  {
   "cell_type": "code",
   "execution_count": null,
   "metadata": {},
   "outputs": [],
   "source": [
    "# Load training and eval data from tf.keras\n",
    "N = 100\n",
    "T = 44100 + 1\n",
    "if dataset_name == 'toy_data':\n",
    "  x = np.array(range(T))\n",
    "  n = np.random.uniform(low=1000, high=2000, size=N)\n",
    "  train_sequences = np.array([np.sin(x*i/T) for i in n])\n",
    "  target_sequences = train_sequences[:, 1:]\n",
    "  train_sequences = train_sequences[:, :-1]\n",
    "\n",
    "train_sequences = np.expand_dims(train_sequences.astype(np.float32), axis=-1)\n",
    "target_sequences = np.expand_dims(target_sequences.astype(np.float32), axis=-1)"
   ]
  },
  {
   "cell_type": "code",
   "execution_count": null,
   "metadata": {},
   "outputs": [],
   "source": [
    "index = 54\n",
    "t = 1000\n",
    "plt.plot(train_sequences[index, :t, 0])\n",
    "plt.show()"
   ]
  },
  {
   "cell_type": "code",
   "execution_count": null,
   "metadata": {},
   "outputs": [],
   "source": [
    "display.Audio(train_sequences[index, :, 0], rate=44100)"
   ]
  },
  {
   "cell_type": "markdown",
   "metadata": {},
   "source": [
    "### Companding transform"
   ]
  },
  {
   "cell_type": "code",
   "execution_count": null,
   "metadata": {},
   "outputs": [],
   "source": [
    "def companding_transform(sequences, quantize_channel=256):\n",
    "  mu = quantize_channel - 1\n",
    "  epsilon = 1e-10\n",
    "  safe_abs = np.minimum(np.abs(sequences), 1.0)\n",
    "  sequence = np.sign(sequences) * np.log(1. + safe_abs * mu) / np.log(1. + mu)\n",
    "  \n",
    "  return sequence"
   ]
  },
  {
   "cell_type": "code",
   "execution_count": null,
   "metadata": {},
   "outputs": [],
   "source": [
    "train_sequences = companding_transform(train_sequences)\n",
    "target_sequences = companding_transform(target_sequences)"
   ]
  },
  {
   "cell_type": "code",
   "execution_count": null,
   "metadata": {},
   "outputs": [],
   "source": [
    "plt.plot(train_sequences[index, :t, 0])\n",
    "plt.show()"
   ]
  },
  {
   "cell_type": "code",
   "execution_count": null,
   "metadata": {},
   "outputs": [],
   "source": [
    "def quantize_inputs(sequences, quantize_channel=256):\n",
    "  mu = quantize_channel - 1\n",
    "  #sequences = companding_transform(sequences)\n",
    "  return np.int32((sequences + 1.) / 2. * mu + 0.5)"
   ]
  },
  {
   "cell_type": "code",
   "execution_count": null,
   "metadata": {},
   "outputs": [],
   "source": [
    "train_sequences = quantize_inputs(train_sequences)\n",
    "target_sequences = quantize_inputs(target_sequences)"
   ]
  },
  {
   "cell_type": "code",
   "execution_count": null,
   "metadata": {},
   "outputs": [],
   "source": [
    "def recover_input_scale(sequences, quantize_channel=256):\n",
    "  # this function is borrowed from https://github.com/ibab/tensorflow-wavenet\n",
    "  mu = quantize_channel - 1\n",
    "  # scale to [-1, 1]\n",
    "  sequences = 2. * (np.float32(sequences) / mu) - 1.\n",
    "  magnitudes = (1. / mu) * ((1. + mu)**abs(sequences) - 1.)\n",
    "  return np.sign(sequences) * magnitudes"
   ]
  },
  {
   "cell_type": "markdown",
   "metadata": {},
   "source": [
    "## Set up dataset with `tf.data`\n",
    "\n",
    "### create input pipeline with `tf.data.Dataset`"
   ]
  },
  {
   "cell_type": "code",
   "execution_count": null,
   "metadata": {},
   "outputs": [],
   "source": [
    "def to_float(sequence, target):\n",
    "  return tf.dtypes.cast(sequence, tf.float32), target"
   ]
  },
  {
   "cell_type": "code",
   "execution_count": null,
   "metadata": {},
   "outputs": [],
   "source": [
    "def one_hot(sequence, target):\n",
    "  return sequence, tf.one_hot(tf.squeeze(target, axis=-1), 256)"
   ]
  },
  {
   "cell_type": "code",
   "execution_count": null,
   "metadata": {},
   "outputs": [],
   "source": [
    "#tf.random.set_seed(219)\n",
    "\n",
    "# for train\n",
    "N = len(train_sequences)\n",
    "train_dataset = tf.data.Dataset.from_tensor_slices((train_sequences, target_sequences))\n",
    "train_dataset = train_dataset.map(to_float)\n",
    "train_dataset = train_dataset.map(one_hot)\n",
    "train_dataset = train_dataset.shuffle(buffer_size=N)\n",
    "train_dataset = train_dataset.batch(batch_size=batch_size, drop_remainder=True)\n",
    "print(train_dataset)"
   ]
  },
  {
   "cell_type": "markdown",
   "metadata": {},
   "source": [
    "## Create the generator and discriminator models"
   ]
  },
  {
   "cell_type": "code",
   "execution_count": null,
   "metadata": {},
   "outputs": [],
   "source": [
    "class ResBlock(tf.keras.Model):\n",
    "  def __init__(self, filters, kernel_size, dilation_rate):\n",
    "    super(ResBlock, self).__init__()\n",
    "    \"\"\"Initiailize learnable parameters.\n",
    "    \"\"\"\n",
    "    self.conv_f = layers.Conv1D(filters, kernel_size, padding='causal', dilation_rate=dilation_rate, activation='tanh')\n",
    "    self.conv_g = layers.Conv1D(filters, kernel_size, padding='causal', dilation_rate=dilation_rate, activation='sigmoid')\n",
    "    self.conv1x1 = layers.Conv1D(filters, 1, padding='same')\n",
    "      \n",
    "  def call(self, inputs):\n",
    "    f = self.conv_f(inputs)\n",
    "    g = self.conv_g(inputs)\n",
    "    z = f * g\n",
    "    z = self.conv1x1(z)\n",
    "    outputs = z + inputs\n",
    "    \n",
    "    return outputs, z"
   ]
  },
  {
   "cell_type": "code",
   "execution_count": null,
   "metadata": {},
   "outputs": [],
   "source": [
    "class StackedResBlock(tf.keras.Model):\n",
    "  def __init__(self, filters, kernel_size):\n",
    "    super(StackedResBlock, self).__init__()\n",
    "    \"\"\"Initiailize learnable parameters.\n",
    "    \"\"\"\n",
    "    self.block1 = ResBlock(filters, kernel_size, 1)\n",
    "    self.block2 = ResBlock(filters, kernel_size, 2)\n",
    "    self.block3 = ResBlock(filters, kernel_size, 4)\n",
    "    self.block4 = ResBlock(filters, kernel_size, 8)\n",
    "    self.block5 = ResBlock(filters, kernel_size, 16)\n",
    "    #self.block6 = ResBlock(filters, kernel_size, 32)\n",
    "    #self.block7 = ResBlock(filters, kernel_size, 64)\n",
    "    #self.block8 = ResBlock(filters, kernel_size, 128)\n",
    "    #self.block9 = ResBlock(filters, kernel_size, 256)\n",
    "    #self.block10 = ResBlock(filters, kernel_size, 512)\n",
    "      \n",
    "  def call(self, inputs):\n",
    "    x, z1 = self.block1(inputs)\n",
    "    x, z2 = self.block2(x)\n",
    "    x, z3 = self.block3(x)\n",
    "    x, z4 = self.block4(x)\n",
    "    x, z5 = self.block5(x)\n",
    "    #x, z6 = self.block6(x)\n",
    "    #x, z7 = self.block7(x)\n",
    "    #x, z8 = self.block8(x)\n",
    "    #x, z9 = self.block9(x)\n",
    "    #x, z10 = self.block10(x)\n",
    "    \n",
    "    z = z1 + z2 + z3 + z4 + z5# +\\\n",
    "        #z6 + z7 + z8 + z9 + z10\n",
    "    \n",
    "    return x, z"
   ]
  },
  {
   "cell_type": "code",
   "execution_count": null,
   "metadata": {},
   "outputs": [],
   "source": [
    "class WaveNet(tf.keras.Model):\n",
    "  def __init__(self, filters, kernel_size):\n",
    "    super(WaveNet, self).__init__()\n",
    "    \"\"\"Initiailize learnable parameters.\n",
    "    \"\"\"\n",
    "    #self.conv = layers.Conv1D(filters, kernel_size, padding='causal')\n",
    "    self.block1 = StackedResBlock(filters, kernel_size)\n",
    "    self.block2 = StackedResBlock(filters, kernel_size)\n",
    "    #self.block3 = StackedResBlock(filters, kernel_size)\n",
    "    self.conv1x1_a = layers.Conv1D(filters, 1, padding='same', activation='relu')\n",
    "    self.conv1x1_b = layers.Conv1D(256, 1, padding='same')#, activation='softmax')\n",
    "\n",
    "  def call(self, inputs):\n",
    "    x, z1 = self.block1(inputs)\n",
    "    x, z2 = self.block2(x)\n",
    "    x, z3 = self.block3(x)\n",
    "    \n",
    "    outputs = tf.nn.relu(z1 + z2 + z3)\n",
    "    outputs = self.conv1x1_a(outputs)\n",
    "    outputs = self.conv1x1_b(outputs)\n",
    "    \n",
    "    return outputs\n",
    "  \n",
    "  def generate(self):"
   ]
  },
  {
   "cell_type": "code",
   "execution_count": null,
   "metadata": {},
   "outputs": [],
   "source": [
    "wavenet = WaveNet(32, 3)"
   ]
  },
  {
   "cell_type": "code",
   "execution_count": null,
   "metadata": {},
   "outputs": [],
   "source": [
    "for sequences, targets in train_dataset.take(1):\n",
    "  outputs = wavenet(sequences)"
   ]
  },
  {
   "cell_type": "code",
   "execution_count": null,
   "metadata": {},
   "outputs": [],
   "source": [
    "outputs.shape"
   ]
  },
  {
   "cell_type": "markdown",
   "metadata": {},
   "source": [
    "## Define the loss functions and the optimizer\n",
    "\n",
    "* Actually we use the log likelihood function as loss function"
   ]
  },
  {
   "cell_type": "markdown",
   "metadata": {},
   "source": [
    "### Define loss function"
   ]
  },
  {
   "cell_type": "code",
   "execution_count": null,
   "metadata": {},
   "outputs": [],
   "source": [
    "loss_object = tf.keras.losses.CategoricalCrossentropy(from_logits=True)"
   ]
  },
  {
   "cell_type": "markdown",
   "metadata": {},
   "source": [
    "### Define optimizer"
   ]
  },
  {
   "cell_type": "code",
   "execution_count": null,
   "metadata": {},
   "outputs": [],
   "source": [
    "optimizer = tf.keras.optimizers.Adam(learning_rate)"
   ]
  },
  {
   "cell_type": "markdown",
   "metadata": {},
   "source": [
    "## Checkpoints (Object-based saving)"
   ]
  },
  {
   "cell_type": "code",
   "execution_count": null,
   "metadata": {},
   "outputs": [],
   "source": [
    "checkpoint_dir = train_dir\n",
    "if not tf.io.gfile.exists(checkpoint_dir):\n",
    "  tf.io.gfile.makedirs(checkpoint_dir)\n",
    "checkpoint_prefix = os.path.join(checkpoint_dir, \"ckpt\")\n",
    "checkpoint = tf.train.Checkpoint(optimizer=optimizer, nade=wavenet)"
   ]
  },
  {
   "cell_type": "markdown",
   "metadata": {},
   "source": [
    "## Training"
   ]
  },
  {
   "cell_type": "markdown",
   "metadata": {},
   "source": [
    "### Define training one step function"
   ]
  },
  {
   "cell_type": "code",
   "execution_count": null,
   "metadata": {},
   "outputs": [],
   "source": [
    "# Notice the use of `tf.function`\n",
    "# This annotation causes the function to be \"compiled\".\n",
    "@tf.function\n",
    "def train_step(sequences, targets):\n",
    "  with tf.GradientTape() as tape:\n",
    "    predictions = wavenet(sequences)\n",
    "    loss_value = loss_object(targets, predictions)\n",
    "      \n",
    "  gradients = tape.gradient(loss_value, wavenet.trainable_variables)\n",
    "  optimizer.apply_gradients(zip(gradients, wavenet.trainable_variables))\n",
    "\n",
    "  return loss_value"
   ]
  },
  {
   "cell_type": "markdown",
   "metadata": {},
   "source": [
    "### Training full steps"
   ]
  },
  {
   "cell_type": "code",
   "execution_count": null,
   "metadata": {},
   "outputs": [],
   "source": [
    "print('Start Training.')\n",
    "num_batches_per_epoch = int(N / batch_size)\n",
    "global_step = tf.Variable(0, trainable=False)\n",
    "\n",
    "for epoch in range(max_epochs):\n",
    "  \n",
    "  for step, (sequences, targets) in enumerate(train_dataset):\n",
    "    start_time = time.time()\n",
    "\n",
    "    loss = train_step(sequences, targets)\n",
    "    global_step.assign_add(1)\n",
    "    \n",
    "    if global_step.numpy() % print_steps == 0:\n",
    "      epochs = epoch + step / float(num_batches_per_epoch)\n",
    "      duration = time.time() - start_time\n",
    "      examples_per_sec = batch_size / float(duration)\n",
    "      display.clear_output(wait=True)\n",
    "      print(\"Epochs: {:.2f} global_step: {} loss: {:.3g} ({:.2f} examples/sec; {:.3f} sec/batch)\".format(\n",
    "                epochs, global_step.numpy(), loss.numpy(), examples_per_sec, duration))\n",
    "      #sample_images = nade.sampling(num_examples_to_generate)\n",
    "      #print_or_save_sample_images(sample_images.numpy(), num_examples_to_generate)\n",
    "      \n",
    "#   if (epoch + 1) % save_images_epochs == 0:\n",
    "#     display.clear_output(wait=True)\n",
    "#     print(\"This images are saved at {} epoch\".format(epoch+1))\n",
    "#     sample_images = nade.sampling(num_examples_to_generate)\n",
    "#     print_or_save_sample_images(sample_images.numpy(), num_examples_to_generate,\n",
    "#                                 is_square=True, is_save=True, epoch=epoch+1,\n",
    "#                                 checkpoint_dir=checkpoint_dir)\n",
    "      \n",
    "  # saving (checkpoint) the model every save_epochs\n",
    "  if (epoch + 1) % save_model_epochs == 0:\n",
    "    checkpoint.save(file_prefix=checkpoint_prefix)\n",
    "    \n",
    "print('Training Done.')"
   ]
  },
  {
   "cell_type": "code",
   "execution_count": null,
   "metadata": {},
   "outputs": [],
   "source": [
    "# generating after the final epoch\n",
    "display.clear_output(wait=True)"
   ]
  },
  {
   "cell_type": "markdown",
   "metadata": {},
   "source": [
    "## Restore the latest checkpoint"
   ]
  },
  {
   "cell_type": "code",
   "execution_count": null,
   "metadata": {},
   "outputs": [],
   "source": [
    "# restoring the latest checkpoint in checkpoint_dir\n",
    "checkpoint.restore(tf.train.latest_checkpoint(checkpoint_dir))"
   ]
  },
  {
   "cell_type": "markdown",
   "metadata": {},
   "source": [
    "## Display an image using the epoch number"
   ]
  },
  {
   "cell_type": "code",
   "execution_count": null,
   "metadata": {},
   "outputs": [],
   "source": [
    "display_image(max_epochs, checkpoint_dir=checkpoint_dir)"
   ]
  },
  {
   "cell_type": "markdown",
   "metadata": {},
   "source": [
    "## Generate a GIF of all the saved images."
   ]
  },
  {
   "cell_type": "code",
   "execution_count": null,
   "metadata": {},
   "outputs": [],
   "source": [
    "filename = model_name + '_' + dataset_name + '.gif'\n",
    "generate_gif(filename, checkpoint_dir)"
   ]
  },
  {
   "cell_type": "code",
   "execution_count": null,
   "metadata": {},
   "outputs": [],
   "source": [
    "display.Image(filename=filename + '.png')"
   ]
  }
 ],
 "metadata": {
  "kernelspec": {
   "display_name": "Python 3",
   "language": "python",
   "name": "python3"
  },
  "language_info": {
   "codemirror_mode": {
    "name": "ipython",
    "version": 3
   },
   "file_extension": ".py",
   "mimetype": "text/x-python",
   "name": "python",
   "nbconvert_exporter": "python",
   "pygments_lexer": "ipython3",
   "version": "3.6.5"
  },
  "latex_envs": {
   "LaTeX_envs_menu_present": true,
   "autoclose": false,
   "autocomplete": true,
   "bibliofile": "biblio.bib",
   "cite_by": "apalike",
   "current_citInitial": 1,
   "eqLabelWithNumbers": true,
   "eqNumInitial": 1,
   "hotkeys": {
    "equation": "Ctrl-E",
    "itemize": "Ctrl-I"
   },
   "labels_anchors": false,
   "latex_user_defs": false,
   "report_style_numbering": false,
   "user_envs_cfg": false
  },
  "toc": {
   "base_numbering": 1,
   "nav_menu": {},
   "number_sections": true,
   "sideBar": true,
   "skip_h1_title": false,
   "title_cell": "Table of Contents",
   "title_sidebar": "Contents",
   "toc_cell": false,
   "toc_position": {},
   "toc_section_display": true,
   "toc_window_display": false
  },
  "varInspector": {
   "cols": {
    "lenName": 16,
    "lenType": 16,
    "lenVar": 40
   },
   "kernels_config": {
    "python": {
     "delete_cmd_postfix": "",
     "delete_cmd_prefix": "del ",
     "library": "var_list.py",
     "varRefreshCmd": "print(var_dic_list())"
    },
    "r": {
     "delete_cmd_postfix": ") ",
     "delete_cmd_prefix": "rm(",
     "library": "var_list.r",
     "varRefreshCmd": "cat(var_dic_list()) "
    }
   },
   "types_to_exclude": [
    "module",
    "function",
    "builtin_function_or_method",
    "instance",
    "_Feature"
   ],
   "window_display": false
  }
 },
 "nbformat": 4,
 "nbformat_minor": 2
}
