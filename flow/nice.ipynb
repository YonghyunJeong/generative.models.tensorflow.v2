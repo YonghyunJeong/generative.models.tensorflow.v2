{
 "cells": [
  {
   "cell_type": "markdown",
   "metadata": {},
   "source": [
    "# NICE with MNIST\n",
    "\n",
    "* `NICE: NON-LINEAR INDEPENDENT COMPONENTS ESTIMATION`, [arXiv:1410.8516](https://arxiv.org/abs/1410.8516)\n",
    "  * Laurent Dinh, David Krueger and Yoshua Bengio\n",
    "  \n",
    "* Implemented by [`tf.keras.layers`](https://www.tensorflow.org/api_docs/python/tf/keras/layers) and [`eager execution`](https://www.tensorflow.org/guide/eager)."
   ]
  },
  {
   "cell_type": "markdown",
   "metadata": {},
   "source": [
    "## Import modules"
   ]
  },
  {
   "cell_type": "code",
   "execution_count": null,
   "metadata": {},
   "outputs": [],
   "source": [
    "from __future__ import absolute_import\n",
    "from __future__ import division\n",
    "from __future__ import print_function\n",
    "\n",
    "import os\n",
    "import sys\n",
    "import time\n",
    "import glob\n",
    "\n",
    "import numpy as np\n",
    "import matplotlib.pyplot as plt\n",
    "%matplotlib inline\n",
    "\n",
    "import PIL\n",
    "import imageio\n",
    "from IPython import display\n",
    "\n",
    "import tensorflow as tf\n",
    "from tensorflow.keras import layers\n",
    "tf.enable_eager_execution()\n",
    "\n",
    "tf.logging.set_verbosity(tf.logging.INFO)\n",
    "\n",
    "os.environ[\"CUDA_VISIBLE_DEVICES\"]=\"0\""
   ]
  },
  {
   "cell_type": "markdown",
   "metadata": {},
   "source": [
    "## Setting hyperparameters"
   ]
  },
  {
   "cell_type": "code",
   "execution_count": null,
   "metadata": {},
   "outputs": [],
   "source": [
    "# Training Flags (hyperparameter configuration)\n",
    "train_dir = 'train/nice/exp1/'\n",
    "max_epochs = 30\n",
    "save_model_epochs = 10\n",
    "print_steps = 10\n",
    "save_images_epochs = 1\n",
    "batch_size = 32\n",
    "learning_rate = 1e-3\n",
    "num_examples_to_generate = 16\n",
    "MNIST_SIZE = 784\n",
    "noise_dim = MNIST_SIZE"
   ]
  },
  {
   "cell_type": "markdown",
   "metadata": {},
   "source": [
    "## Load the MNIST dataset"
   ]
  },
  {
   "cell_type": "code",
   "execution_count": null,
   "metadata": {},
   "outputs": [],
   "source": [
    "# Load training and eval data from tf.keras\n",
    "(train_data, train_labels), _ = \\\n",
    "    tf.keras.datasets.mnist.load_data()\n",
    "\n",
    "train_data = train_data.reshape(-1, MNIST_SIZE).astype('float32')\n",
    "train_data = train_data / 255.\n",
    "train_labels = np.asarray(train_labels, dtype=np.int32)"
   ]
  },
  {
   "cell_type": "markdown",
   "metadata": {},
   "source": [
    "## Set up dataset with `tf.data`\n",
    "\n",
    "### create input pipeline with `tf.data.Dataset`"
   ]
  },
  {
   "cell_type": "code",
   "execution_count": null,
   "metadata": {},
   "outputs": [],
   "source": [
    "tf.set_random_seed(219)\n",
    "\n",
    "# for train\n",
    "N = len(train_data)\n",
    "train_dataset = tf.data.Dataset.from_tensor_slices(train_data[:N])\n",
    "train_dataset = train_dataset.shuffle(buffer_size = N)\n",
    "train_dataset = train_dataset.batch(batch_size = batch_size)\n",
    "print(train_dataset)"
   ]
  },
  {
   "cell_type": "markdown",
   "metadata": {},
   "source": [
    "## Create the NICE models"
   ]
  },
  {
   "cell_type": "code",
   "execution_count": null,
   "metadata": {},
   "outputs": [],
   "source": [
    "class ReLUMLP(tf.keras.Model):\n",
    "  def __init__(self, input_size):\n",
    "    super(ReLUMLP, self).__init__()\n",
    "    self.input_size = input_size\n",
    "    self.fc1 = layers.Dense(units=1000, activation='relu')\n",
    "    self.fc2 = layers.Dense(units=1000, activation='relu')\n",
    "    self.fc3 = layers.Dense(units=1000, activation='relu')\n",
    "    self.fc4 = layers.Dense(units=1000, activation='relu')\n",
    "    self.fc5 = layers.Dense(units=MNIST_SIZE-self.input_size, activation='relu')\n",
    "\n",
    "  def call(self, inputs, training=True):\n",
    "    \"\"\"Run the model.\"\"\"\n",
    "    fc1 = self.fc1(inputs)\n",
    "    fc2 = self.fc2(fc1)\n",
    "    fc3 = self.fc3(fc2)\n",
    "    fc4 = self.fc4(fc3)\n",
    "    fc5 = self.fc5(fc4)\n",
    "    \n",
    "    return fc5"
   ]
  },
  {
   "cell_type": "code",
   "execution_count": null,
   "metadata": {},
   "outputs": [],
   "source": [
    "class AdditiveCouplingLayer(tf.keras.Model):\n",
    "  def __init__(self, input_size):\n",
    "    super(AdditiveCouplingLayer, self).__init__()\n",
    "    self.input_size = input_size\n",
    "    self.relumlp = ReLUMLP(self.input_size)\n",
    "    \n",
    "  def call(self, x1, x2):\n",
    "    y1 = x1\n",
    "    y2 = x2 + self.relumlp(x1)\n",
    "    \n",
    "    return y1, y2\n",
    "    \n",
    "  def inverse(self, y1, y2):\n",
    "    x1 = y1\n",
    "    x2 = y2 - self.relumlp(y1)\n",
    "    \n",
    "    return x1, x2   "
   ]
  },
  {
   "cell_type": "code",
   "execution_count": null,
   "metadata": {},
   "outputs": [],
   "source": [
    "def partition(inputs, method='topdown', p1_size=int(MNIST_SIZE/2)):\n",
    "  if method == 'topdown':\n",
    "    p1 = inputs[:, :p1_size]\n",
    "    p2 = inputs[:, p1_size:]\n",
    "  else:\n",
    "    raise ValueError('Not allowed method')\n",
    "    \n",
    "  return p1, p2"
   ]
  },
  {
   "cell_type": "code",
   "execution_count": null,
   "metadata": {},
   "outputs": [],
   "source": [
    "class NICE(tf.keras.Model):\n",
    "  def __init__(self, partition_method, partition_size):\n",
    "    super(NICE, self).__init__()\n",
    "    self.partition_method = partition_method\n",
    "    self.partition_size1 = partition_size\n",
    "    self.partition_size2 = MNIST_SIZE - partition_size\n",
    "    \n",
    "    self.coupling1 = AdditiveCouplingLayer(self.partition_size1)\n",
    "    self.coupling2 = AdditiveCouplingLayer(self.partition_size2)\n",
    "    self.coupling3 = AdditiveCouplingLayer(self.partition_size1)\n",
    "    self.coupling4 = AdditiveCouplingLayer(self.partition_size2)\n",
    "    self.scaling = tf.Variable(initial_value=-tf.ones(MNIST_SIZE))\n",
    "\n",
    "  def call(self, inputs, training=True):\n",
    "    x1, x2 = partition(inputs, self.partition_method, self.partition_size1)\n",
    "    \n",
    "    # naming rule: layer_partition\n",
    "    h1_1, h1_2 = self.coupling1(x1, x2)\n",
    "    h2_2, h2_1 = self.coupling2(h1_2, h1_1)\n",
    "    h3_1, h3_2 = self.coupling3(h2_1, h2_2)\n",
    "    h4_2, h4_1 = self.coupling4(h3_2, h3_1)\n",
    "    \n",
    "    h = tf.exp(self.scaling) * tf.concat((h4_1, h4_2), axis=1)\n",
    "    \n",
    "    return h, self.scaling\n",
    "  \n",
    "  def generate_sample(self, noise_vector):\n",
    "    h4 = noise_vector / tf.exp(self.scaling)\n",
    "    h4_1, h4_2 = partition(h4, self.partition_method, self.partition_size1)\n",
    "    \n",
    "    h3_2, h3_1 = self.coupling4.inverse(h4_2, h4_1)\n",
    "    h2_1, h2_2 = self.coupling3.inverse(h3_1, h3_2)\n",
    "    h1_2, h1_1 = self.coupling2.inverse(h2_2, h2_1)\n",
    "    x1, x2 = self.coupling1.inverse(h1_1, h1_2)\n",
    "    \n",
    "    x = tf.concat((x1, x2), axis=1)\n",
    "    x = tf.reshape(x, [-1, 28, 28])\n",
    "    \n",
    "    return tf.concat((x1, x2), axis=1)"
   ]
  },
  {
   "cell_type": "code",
   "execution_count": null,
   "metadata": {},
   "outputs": [],
   "source": [
    "nice = NICE(partition_method='topdown', partition_size=392)"
   ]
  },
  {
   "cell_type": "code",
   "execution_count": null,
   "metadata": {},
   "outputs": [],
   "source": [
    "# Defun for performance boost\n",
    "nice.call = tf.contrib.eager.defun(nice.call)"
   ]
  },
  {
   "cell_type": "markdown",
   "metadata": {},
   "source": [
    "## Define the loss functions and the optimizer"
   ]
  },
  {
   "cell_type": "code",
   "execution_count": null,
   "metadata": {},
   "outputs": [],
   "source": [
    "def log_likelihood(h, prior='logistic'):\n",
    "  if prior == 'logistic':\n",
    "    ll = - tf.reduce_sum( tf.log(1. + tf.exp(h)) + tf.log(1. + tf.exp(-h)), axis=1 )\n",
    "  elif prior == 'gaussian':\n",
    "    ll = -0.5 * tf.reduce_sum(h**2, axis=1)\n",
    "\n",
    "  return ll"
   ]
  },
  {
   "cell_type": "code",
   "execution_count": null,
   "metadata": {},
   "outputs": [],
   "source": [
    "def loss_fn(log_likelihood, scaling):\n",
    "  # negative (log_likelihood + scaling)\n",
    "  return -tf.reduce_mean(log_likelihood + tf.reduce_sum(scaling), axis=0)"
   ]
  },
  {
   "cell_type": "code",
   "execution_count": null,
   "metadata": {},
   "outputs": [],
   "source": [
    "optimizer = tf.train.AdamOptimizer(learning_rate, beta1=0.9, beta2=0.01, epsilon=1e-4)"
   ]
  },
  {
   "cell_type": "markdown",
   "metadata": {},
   "source": [
    "## Checkpoints (Object-based saving)"
   ]
  },
  {
   "cell_type": "code",
   "execution_count": null,
   "metadata": {},
   "outputs": [],
   "source": [
    "checkpoint_dir = train_dir\n",
    "if not tf.gfile.Exists(checkpoint_dir):\n",
    "  tf.gfile.MakeDirs(checkpoint_dir)\n",
    "checkpoint_prefix = os.path.join(checkpoint_dir, \"ckpt\")\n",
    "checkpoint = tf.train.Checkpoint(optimizer=optimizer,\n",
    "                                 nice=nice)"
   ]
  },
  {
   "cell_type": "markdown",
   "metadata": {},
   "source": [
    "## Training"
   ]
  },
  {
   "cell_type": "code",
   "execution_count": null,
   "metadata": {},
   "outputs": [],
   "source": [
    "# keeping the random vector constant for generation (prediction) so\n",
    "# it will be easier to see the improvement of the nice.\n",
    "random_vector_for_generation = tf.random_normal([num_examples_to_generate, noise_dim])"
   ]
  },
  {
   "cell_type": "code",
   "execution_count": null,
   "metadata": {},
   "outputs": [],
   "source": [
    "def print_or_save_sample_images(sample_images, max_print_size=num_examples_to_generate,\n",
    "                                is_square=False, is_save=False, epoch=None,\n",
    "                                checkpoint_dir=checkpoint_dir):\n",
    "  available_print_size = list(range(1, 26))\n",
    "  assert max_print_size in available_print_size\n",
    "  \n",
    "  if not is_square:\n",
    "    print_images = sample_images[:max_print_size, ...]\n",
    "    print_images = print_images.reshape([max_print_size, 28, 28])\n",
    "    print_images = print_images.swapaxes(0, 1)\n",
    "    print_images = print_images.reshape([28, max_print_size * 28])\n",
    "\n",
    "    fig = plt.figure(figsize=(max_print_size, 1))\n",
    "    plt.imshow(print_images, cmap='gray')\n",
    "    plt.axis('off')\n",
    "    \n",
    "  else:\n",
    "    num_columns = int(np.sqrt(max_print_size))\n",
    "    max_print_size = int(num_columns**2)\n",
    "    print_images = sample_images[:max_print_size, ...]\n",
    "    print_images = print_images.reshape([max_print_size, 28, 28])\n",
    "    print_images = print_images.swapaxes(0, 1)\n",
    "    print_images = print_images.reshape([28, max_print_size * 28])\n",
    "    print_images = [print_images[:,i*28*num_columns:(i+1)*28*num_columns] for i in range(num_columns)]\n",
    "    print_images = np.concatenate(tuple(print_images), axis=0)\n",
    "    \n",
    "    fig = plt.figure(figsize=(num_columns, num_columns))\n",
    "    plt.subplots_adjust(left=0.0, right=1.0, top=1.0, bottom=0.0)\n",
    "    plt.imshow(print_images, cmap='gray')\n",
    "    plt.axis('off')\n",
    "    \n",
    "  if is_save and epoch is not None:\n",
    "    filepath = os.path.join(checkpoint_dir, 'image_at_epoch_{:04d}.png'.format(epoch))\n",
    "    plt.savefig(filepath)\n",
    "\n",
    "  plt.show()"
   ]
  },
  {
   "cell_type": "code",
   "execution_count": null,
   "metadata": {},
   "outputs": [],
   "source": [
    "tf.logging.info('Start Training.')\n",
    "global_step = tf.train.get_or_create_global_step()\n",
    "for epoch in range(max_epochs):\n",
    "  \n",
    "  for images in train_dataset:\n",
    "    start_time = time.time()\n",
    "    \n",
    "    with tf.GradientTape() as tape:\n",
    "      outputs, scaling = nice(images)\n",
    "      ll = log_likelihood(outputs, prior='logistic')\n",
    "      loss = loss_fn(ll, scaling)\n",
    "\n",
    "    gradients = tape.gradient(loss, nice.variables)\n",
    "\n",
    "    optimizer.apply_gradients(zip(gradients, nice.variables), global_step=global_step)\n",
    "    \n",
    "    epochs = global_step.numpy() * batch_size / float(N)\n",
    "    duration = time.time() - start_time\n",
    "\n",
    "    if global_step.numpy() % print_steps == 0:\n",
    "      display.clear_output(wait=True)\n",
    "      examples_per_sec = batch_size / float(duration)\n",
    "      print(\"Epochs: {:.2f} global_step: {} log likelihood: {:.3f} ({:.2f} examples/sec; {:.3f} sec/batch)\".format(\n",
    "                epochs, global_step.numpy(), loss, examples_per_sec, duration))\n",
    "      sample_images = nice.generate_sample(random_vector_for_generation)\n",
    "      print_or_save_sample_images(sample_images.numpy())\n",
    "\n",
    "#   if epoch % save_images_epochs == 0:\n",
    "#     display.clear_output(wait=True)\n",
    "#     print(\"This images are saved at {} epoch\".format(epoch+1))\n",
    "#     sample_images = generator(random_vector_for_generation, training=False)\n",
    "#     print_or_save_sample_images(sample_images.numpy(), is_square=True,\n",
    "#                                 is_save=True, epoch=epoch+1,\n",
    "#                                 checkpoint_dir=checkpoint_dir)\n",
    "\n",
    "#   # saving (checkpoint) the model every save_epochs\n",
    "#   if (epoch + 1) % save_model_epochs == 0:\n",
    "#     checkpoint.save(file_prefix = checkpoint_prefix)"
   ]
  },
  {
   "cell_type": "code",
   "execution_count": null,
   "metadata": {},
   "outputs": [],
   "source": [
    "# generating after the final epoch\n",
    "display.clear_output(wait=True)\n",
    "sample_images = nice.generate_sample(random_vector_for_generation)\n",
    "print_or_save_sample_images(sample_images.numpy(), is_square=True,\n",
    "                            is_save=True, epoch=epoch+1,\n",
    "                            checkpoint_dir=checkpoint_dir)"
   ]
  },
  {
   "cell_type": "markdown",
   "metadata": {},
   "source": [
    "## Restore the latest checkpoint"
   ]
  },
  {
   "cell_type": "code",
   "execution_count": null,
   "metadata": {},
   "outputs": [],
   "source": [
    "# restoring the latest checkpoint in checkpoint_dir\n",
    "checkpoint.restore(tf.train.latest_checkpoint(checkpoint_dir))"
   ]
  },
  {
   "cell_type": "markdown",
   "metadata": {},
   "source": [
    "## Display an image using the epoch number"
   ]
  },
  {
   "cell_type": "code",
   "execution_count": null,
   "metadata": {},
   "outputs": [],
   "source": [
    "def display_image(epoch_no, checkpoint_dir=checkpoint_dir):\n",
    "  filepath = os.path.join(checkpoint_dir, 'image_at_epoch_{:04d}.png'.format(epoch_no))\n",
    "  return PIL.Image.open(filepath)"
   ]
  },
  {
   "cell_type": "code",
   "execution_count": null,
   "metadata": {},
   "outputs": [],
   "source": [
    "display_image(max_epochs)"
   ]
  },
  {
   "cell_type": "markdown",
   "metadata": {},
   "source": [
    "## Generate a GIF of all the saved images."
   ]
  },
  {
   "cell_type": "code",
   "execution_count": null,
   "metadata": {},
   "outputs": [],
   "source": [
    "with imageio.get_writer('nice.gif', mode='I') as writer:\n",
    "  filenames = glob.glob(os.path.join(checkpoint_dir, 'image*.png'))\n",
    "  filenames = sorted(filenames)\n",
    "  last = -1\n",
    "  for i,filename in enumerate(filenames):\n",
    "    frame = 2*(i**0.5)\n",
    "    if round(frame) > round(last):\n",
    "      last = frame\n",
    "    else:\n",
    "      continue\n",
    "    image = imageio.imread(filename)\n",
    "    writer.append_data(image)\n",
    "  image = imageio.imread(filename)\n",
    "  writer.append_data(image)\n",
    "    \n",
    "# this is a hack to display the gif inside the notebook\n",
    "os.system('cp nice.gif nice.gif.png')"
   ]
  },
  {
   "cell_type": "code",
   "execution_count": null,
   "metadata": {
    "scrolled": true
   },
   "outputs": [],
   "source": [
    "display.Image(filename=\"nice.gif.png\")"
   ]
  }
 ],
 "metadata": {
  "kernelspec": {
   "display_name": "Python 3",
   "language": "python",
   "name": "python3"
  },
  "language_info": {
   "codemirror_mode": {
    "name": "ipython",
    "version": 3
   },
   "file_extension": ".py",
   "mimetype": "text/x-python",
   "name": "python",
   "nbconvert_exporter": "python",
   "pygments_lexer": "ipython3",
   "version": "3.6.5"
  }
 },
 "nbformat": 4,
 "nbformat_minor": 2
}
